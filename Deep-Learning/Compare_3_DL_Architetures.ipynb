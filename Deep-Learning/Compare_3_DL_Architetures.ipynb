{
 "cells": [
  {
   "cell_type": "markdown",
   "metadata": {},
   "source": [
    "# Assignment #1\n",
    "\n",
    "## Overview of our assignment\n",
    "* Given a face image dataset, namely CelebA, you need to perform classification on it, using MLP and multiple CNN architectures, and then report the results.\n",
    "* We provide three models for classification, such as MLP, VGG, and ResNet-18, which can be used as the base architectures for your assignment.\n",
    "* You should implement the following three regularization techniques: 1) Dropout, 2) L2 normalization, and 3) L1 normalization, based upon the provided three models, and then report the results. \n",
    "* Also, you should implement the following three optimization methods: 1) SGD with Momentum, 2) AdaGrad, and 3) Adam, and then report the obtained results as well."
   ]
  },
  {
   "cell_type": "code",
   "execution_count": 1,
   "metadata": {
    "scrolled": true
   },
   "outputs": [],
   "source": [
    "import os\n",
    "import time\n",
    "\n",
    "import numpy as np\n",
    "import pandas as pd\n",
    "\n",
    "import torch\n",
    "import torch.nn as nn\n",
    "import torch.nn.functional as F\n",
    "\n",
    "from torch.utils.data import Dataset\n",
    "from torch.utils.data import DataLoader\n",
    "\n",
    "from torchvision import datasets\n",
    "from torchvision import transforms\n",
    "import torchvision.models as models\n",
    "\n",
    "import matplotlib.pyplot as plt\n",
    "from PIL import Image"
   ]
  },
  {
   "cell_type": "markdown",
   "metadata": {},
   "source": [
    "## Preparing the CelebA dataset\n",
    "\n",
    "Note that the ~200,000 CelebA face image dataset is relatively large (~1.3 Gb). The download link provided below was provided by the author on the official CelebA website at http://mmlab.ie.cuhk.edu.hk/projects/CelebA.html. \n",
    "\n",
    "Download link: https://drive.google.com/drive/folders/0B7EVK8r0v71pWEZsZE9oNnFzTm8?resourcekey=0-5BR16BdXnb8hVj6CNHKzLg\n",
    "\n",
    "1) Download and unzip the file `./Img/img_align_celeba.zip`, which contains the images in jpeg format.\n",
    "\n",
    "2) Download the `./Anno/list_attr_celeba.txt` file, which contains the class labels.\n",
    "\n",
    "3) Download the `./Eval/list_eval_partition.txt` file, which contains  training/validation/test partitioning info.\n",
    "\n",
    "Please make sure that, all your downloaded files (or unzipped folders) are located inside of the \"./data\" folder to run below codes.\n",
    "\n",
    "For example,\n",
    "* ./data/list_attr_celeba.txt\n",
    "* ./data/list_eval_partition.txt\n",
    "* ./data/img_align_celeba/{IMAGE_NAME}.jpg"
   ]
  },
  {
   "cell_type": "code",
   "execution_count": 7,
   "metadata": {},
   "outputs": [
    {
     "name": "stdout",
     "output_type": "stream",
     "text": [
      "            Male\n",
      "000001.jpg     0\n",
      "000002.jpg     0\n",
      "000003.jpg     1\n",
      "000004.jpg     0\n",
      "000005.jpg     0\n",
      "(202599, 1)\n"
     ]
    }
   ],
   "source": [
    "df1 = pd.read_csv('./data/list_attr_celeba.txt', sep=\"\\s+\", skiprows=1, usecols=['Male'])\n",
    "\n",
    "# Make 0 (female) & 1 (male) labels instead of -1 & 1\n",
    "df1.loc[df1['Male'] == -1, 'Male'] = 0\n",
    "print(df1.head())\n",
    "print(df1.shape)"
   ]
  },
  {
   "cell_type": "code",
   "execution_count": 6,
   "metadata": {},
   "outputs": [
    {
     "name": "stdout",
     "output_type": "stream",
     "text": [
      "            Partition\n",
      "Filename             \n",
      "000001.jpg          0\n",
      "000002.jpg          0\n",
      "000003.jpg          0\n",
      "000004.jpg          0\n",
      "000005.jpg          0\n",
      "(202599, 1)\n"
     ]
    }
   ],
   "source": [
    "df2 = pd.read_csv('./data/list_eval_partition.txt', sep=\"\\s+\", skiprows=0, header=None)\n",
    "df2.columns = ['Filename', 'Partition']\n",
    "df2 = df2.set_index('Filename')\n",
    "\n",
    "print(df2.head())\n",
    "print(df2.shape)"
   ]
  },
  {
   "cell_type": "code",
   "execution_count": 51,
   "metadata": {},
   "outputs": [
    {
     "data": {
      "text/plain": [
       "'/home/jungmin/2022-1 DL'"
      ]
     },
     "execution_count": 51,
     "metadata": {},
     "output_type": "execute_result"
    }
   ],
   "source": [
    "df3 = df1.merge(df2, left_index=True, right_index=True)\n",
    "df3.head()\n",
    "import os \n",
    "os.getcwd()"
   ]
  },
  {
   "cell_type": "code",
   "execution_count": 7,
   "metadata": {},
   "outputs": [
    {
     "data": {
      "text/html": [
       "<div>\n",
       "<style scoped>\n",
       "    .dataframe tbody tr th:only-of-type {\n",
       "        vertical-align: middle;\n",
       "    }\n",
       "\n",
       "    .dataframe tbody tr th {\n",
       "        vertical-align: top;\n",
       "    }\n",
       "\n",
       "    .dataframe thead th {\n",
       "        text-align: right;\n",
       "    }\n",
       "</style>\n",
       "<table border=\"1\" class=\"dataframe\">\n",
       "  <thead>\n",
       "    <tr style=\"text-align: right;\">\n",
       "      <th></th>\n",
       "      <th>Male</th>\n",
       "      <th>Partition</th>\n",
       "    </tr>\n",
       "  </thead>\n",
       "  <tbody>\n",
       "    <tr>\n",
       "      <th>000001.jpg</th>\n",
       "      <td>0</td>\n",
       "      <td>0</td>\n",
       "    </tr>\n",
       "    <tr>\n",
       "      <th>000002.jpg</th>\n",
       "      <td>0</td>\n",
       "      <td>0</td>\n",
       "    </tr>\n",
       "    <tr>\n",
       "      <th>000003.jpg</th>\n",
       "      <td>1</td>\n",
       "      <td>0</td>\n",
       "    </tr>\n",
       "    <tr>\n",
       "      <th>000004.jpg</th>\n",
       "      <td>0</td>\n",
       "      <td>0</td>\n",
       "    </tr>\n",
       "    <tr>\n",
       "      <th>000005.jpg</th>\n",
       "      <td>0</td>\n",
       "      <td>0</td>\n",
       "    </tr>\n",
       "  </tbody>\n",
       "</table>\n",
       "</div>"
      ],
      "text/plain": [
       "            Male  Partition\n",
       "000001.jpg     0          0\n",
       "000002.jpg     0          0\n",
       "000003.jpg     1          0\n",
       "000004.jpg     0          0\n",
       "000005.jpg     0          0"
      ]
     },
     "execution_count": 7,
     "metadata": {},
     "output_type": "execute_result"
    }
   ],
   "source": [
    "df3.to_csv('./data/celeba-gender-partitions.csv')\n",
    "df4 = pd.read_csv('./data/celeba-gender-partitions.csv', index_col=0)\n",
    "df4.head()"
   ]
  },
  {
   "cell_type": "code",
   "execution_count": 8,
   "metadata": {},
   "outputs": [],
   "source": [
    "df4.loc[df4['Partition'] == 0].to_csv('./data/celeba-gender-train.csv')\n",
    "df4.loc[df4['Partition'] == 1].to_csv('./data/celeba-gender-valid.csv')\n",
    "df4.loc[df4['Partition'] == 2].to_csv('./data/celeba-gender-test.csv')"
   ]
  },
  {
   "cell_type": "code",
   "execution_count": 12,
   "metadata": {},
   "outputs": [
    {
     "name": "stdout",
     "output_type": "stream",
     "text": [
      "(218, 178, 3)\n"
     ]
    },
    {
     "data": {
      "image/png": "[encoded data removed]",
      "text/plain": [
       "<Figure size 432x288 with 1 Axes>"
      ]
     },
     "metadata": {
      "needs_background": "light"
     },
     "output_type": "display_data"
    }
   ],
   "source": [
    "# Print sample image\n",
    "img = Image.open('./data/img_align_celeba/img_align_celeba/000104.jpg')\n",
    "print(np.asarray(img, dtype=np.uint8).shape)\n",
    "plt.imshow(img);"
   ]
  },
  {
   "cell_type": "markdown",
   "metadata": {},
   "source": [
    "## Implementing the DataLoader for training, validation, and test"
   ]
  },
  {
   "cell_type": "code",
   "execution_count": 13,
   "metadata": {},
   "outputs": [],
   "source": [
    "class CelebaDataset(Dataset):\n",
    "    \"\"\"Custom Dataset for loading CelebA face images\"\"\"\n",
    "\n",
    "    def __init__(self, csv_path, img_dir, transform=None):\n",
    "    \n",
    "        df = pd.read_csv(csv_path, index_col=0)\n",
    "        self.img_dir = img_dir\n",
    "        self.csv_path = csv_path\n",
    "        self.img_names = df.index.values\n",
    "        self.y = df['Male'].values\n",
    "        self.transform = transform\n",
    "\n",
    "    def __getitem__(self, index):\n",
    "        img = Image.open(os.path.join(self.img_dir,\n",
    "                                      self.img_names[index]))\n",
    "        \n",
    "        if self.transform is not None:\n",
    "            img = self.transform(img)\n",
    "        \n",
    "        label = self.y[index]\n",
    "        return img, label\n",
    "\n",
    "    def __len__(self):\n",
    "        return self.y.shape[0]"
   ]
  },
  {
   "cell_type": "code",
   "execution_count": 14,
   "metadata": {},
   "outputs": [],
   "source": [
    "custom_transform = transforms.Compose([transforms.CenterCrop((178, 178)),\n",
    "                                       transforms.Resize((32, 32)),\n",
    "                                       #transforms.Grayscale(),                                       \n",
    "                                       #transforms.Lambda(lambda x: x/255.),\n",
    "                                       transforms.ToTensor()])"
   ]
  },
  {
   "cell_type": "code",
   "execution_count": 15,
   "metadata": {},
   "outputs": [],
   "source": [
    "# Note that transforms.ToTensor()\n",
    "# already divides pixels by 255. internally\n",
    "\n",
    "# custom_transform = transforms.Compose([transforms.CenterCrop((178, 178)),\n",
    "#                                        transforms.Resize((32, 32)),\n",
    "#                                        #transforms.Grayscale(),                                       \n",
    "#                                        #transforms.Lambda(lambda x: x/255.),\n",
    "#                                        transforms.ToTensor()])\n",
    "\n",
    "train_dataset = CelebaDataset(csv_path='./data/celeba-gender-train.csv',\n",
    "                              img_dir='./data/img_align_celeba/img_align_celeba/',\n",
    "                              transform=custom_transform)\n",
    "\n",
    "valid_dataset = CelebaDataset(csv_path='./data/celeba-gender-valid.csv',\n",
    "                              img_dir='./data/img_align_celeba/img_align_celeba/',\n",
    "                              transform=custom_transform)\n",
    "\n",
    "test_dataset = CelebaDataset(csv_path='./data/celeba-gender-test.csv',\n",
    "                             img_dir='./data/img_align_celeba/img_align_celeba/',\n",
    "                             transform=custom_transform)\n",
    "\n",
    "BATCH_SIZE=256\n",
    "\n",
    "\n",
    "train_loader = DataLoader(dataset=train_dataset,\n",
    "                          batch_size=BATCH_SIZE,\n",
    "                          shuffle=True,\n",
    "                          num_workers=12)\n",
    "\n",
    "valid_loader = DataLoader(dataset=valid_dataset,\n",
    "                          batch_size=BATCH_SIZE,\n",
    "                          shuffle=False,\n",
    "                          num_workers=12)\n",
    "\n",
    "test_loader = DataLoader(dataset=test_dataset,\n",
    "                         batch_size=BATCH_SIZE,\n",
    "                         shuffle=False,\n",
    "                         num_workers=12)"
   ]
  },
  {
   "cell_type": "code",
   "execution_count": 16,
   "metadata": {},
   "outputs": [
    {
     "name": "stdout",
     "output_type": "stream",
     "text": [
      "cuda:0\n"
     ]
    },
    {
     "data": {
      "text/plain": [
       "<torch._C.Generator at 0x7f31a8149770>"
      ]
     },
     "execution_count": 16,
     "metadata": {},
     "output_type": "execute_result"
    }
   ],
   "source": [
    "device = torch.device(\"cuda:0\" if torch.cuda.is_available() else \"cpu\")\n",
    "print(device)\n",
    "torch.manual_seed(0)"
   ]
  },
  {
   "cell_type": "code",
   "execution_count": 17,
   "metadata": {},
   "outputs": [
    {
     "name": "stdout",
     "output_type": "stream",
     "text": [
      "Epoch: 1 | Batch index: 0 | Batch size: 256\n"
     ]
    }
   ],
   "source": [
    "# Testing dataloader\n",
    "\n",
    "device = torch.device(\"cuda:0\" if torch.cuda.is_available() else \"cpu\")\n",
    "torch.manual_seed(0)\n",
    "\n",
    "num_epochs = 1\n",
    "for epoch in range(num_epochs):\n",
    "\n",
    "    for batch_idx, (x, y) in enumerate(train_loader):\n",
    "        \n",
    "        print('Epoch:', epoch+1, end='')\n",
    "        print(' | Batch index:', batch_idx, end='')\n",
    "        print(' | Batch size:', y.size()[0])\n",
    "        x = x.to(device)\n",
    "        y = y.to(device)\n",
    "        break"
   ]
  },
  {
   "cell_type": "markdown",
   "metadata": {},
   "source": [
    "## Implementing models"
   ]
  },
  {
   "cell_type": "code",
   "execution_count": 19,
   "metadata": {},
   "outputs": [],
   "source": [
    "# Hyperparameters\n",
    "random_seed = 42\n",
    "learning_rate = 0.001\n",
    "num_epochs = 10\n",
    "\n",
    "# Architecture\n",
    "num_features = 32*32\n",
    "num_classes = 2"
   ]
  },
  {
   "cell_type": "code",
   "execution_count": 20,
   "metadata": {},
   "outputs": [],
   "source": [
    "from models import mlp\n",
    "from models import vgg\n",
    "from models import resnet"
   ]
  },
  {
   "cell_type": "markdown",
   "metadata": {},
   "source": [
    "## Define Base Model Function"
   ]
  },
  {
   "cell_type": "code",
   "execution_count": 90,
   "metadata": {},
   "outputs": [],
   "source": [
    "def base_model_function(model, optimizer, num_epoch):\n",
    "    start_time = time.time()\n",
    "    \n",
    "    num_epochs = num_epoch\n",
    "    for epoch in range(num_epochs):\n",
    "        # print(epoch)\n",
    "        running_loss, val_running_loss = 0.0, 0.0\n",
    "        running_corrects, val_running_corrects = 0.0, 0.0\n",
    "        num_examples = 0\n",
    "\n",
    "        model.train()\n",
    "        for batch_idx, (features, targets) in enumerate(train_loader):\n",
    "\n",
    "            features = features.to(device)\n",
    "            targets = targets.to(device)\n",
    "\n",
    "            ### FORWARD AND BACK PROP\n",
    "            logits, probas = model(features)\n",
    "            _, predicted_labels = torch.max(probas, 1)\n",
    "            cost = F.cross_entropy(logits, targets)\n",
    "            optimizer.zero_grad()\n",
    "\n",
    "            cost.backward()\n",
    "\n",
    "            ### UPDATE MODEL PARAMETERS\n",
    "            optimizer.step()\n",
    "\n",
    "            ## loss 더해주기\n",
    "            running_loss += cost.item()\n",
    "\n",
    "            ## correct 더해주기\n",
    "            num_examples += targets.size(0)\n",
    "            running_corrects += (predicted_labels == targets).sum()\n",
    "\n",
    "            ### LOGGING\n",
    "            if not batch_idx % 50:\n",
    "                print ('Epoch: %03d/%03d | Batch %04d/%04d | Cost: %.4f' \n",
    "                       %(epoch+1, num_epochs, batch_idx, \n",
    "                         len(train_loader), cost))\n",
    "\n",
    "        # epoch loss 계산\n",
    "        ## print(running_loss)\n",
    "        ## print(len(train_loader))\n",
    "        epoch_loss = running_loss/len(train_loader)\n",
    "        running_loss_history.append(epoch_loss)\n",
    "\n",
    "        # epoch accuracy 계산\n",
    "        ## print(running_corrects)\n",
    "        ## print(num_examples)\n",
    "        epoch_acc = running_corrects/num_examples * 100\n",
    "        running_corrects_history.append(epoch_acc)\n",
    "\n",
    "        model.eval()\n",
    "        with torch.set_grad_enabled(False): # save memory during inference\n",
    "            correct_pred, num_examples = 0, 0\n",
    "            for i, (features, targets) in enumerate(valid_loader):\n",
    "\n",
    "                features = features.to(device)\n",
    "                targets = targets.to(device)\n",
    "\n",
    "                logits, probas = model(features)\n",
    "                _, predicted_labels = torch.max(probas, 1)\n",
    "                cost = F.cross_entropy(logits, targets)\n",
    "\n",
    "                val_running_loss += cost.item()\n",
    "                num_examples += targets.size(0)\n",
    "                val_running_corrects += (predicted_labels == targets).sum()\n",
    "\n",
    "\n",
    "            # epoch loss 계산\n",
    "            val_epoch_loss = val_running_loss/len(valid_loader)\n",
    "            val_running_loss_history.append(val_epoch_loss)\n",
    "\n",
    "            # epoch accuracy 계산\n",
    "            val_epoch_acc = val_running_corrects/num_examples * 100\n",
    "            val_running_corrects_history.append(val_epoch_acc)\n",
    "\n",
    "            print('Epoch: %03d/%03d | Train: %.3f%% | Valid: %.3f%%' % (\n",
    "                  epoch+1, num_epochs, \n",
    "                  epoch_acc,\n",
    "                  val_epoch_acc))\n",
    "\n",
    "        print('Time elapsed: %.2f min' % ((time.time() - start_time)/60))\n",
    "\n",
    "    print('Total Training Time: %.2f min' % ((time.time() - start_time)/60))"
   ]
  },
  {
   "cell_type": "markdown",
   "metadata": {},
   "source": [
    "## Training"
   ]
  },
  {
   "cell_type": "code",
   "execution_count": 47,
   "metadata": {},
   "outputs": [],
   "source": [
    "def compute_accuracy(model, data_loader):\n",
    "    correct_pred, num_examples = 0, 0\n",
    "    for i, (features, targets) in enumerate(data_loader):\n",
    "            \n",
    "        features = features.to(device)\n",
    "        targets = targets.to(device)\n",
    "\n",
    "        logits, probas = model(features)\n",
    "        _, predicted_labels = torch.max(probas, 1)\n",
    "        # cost = F.cross_entropy(logits, targets)\n",
    "        \n",
    "        num_examples += targets.size(0)\n",
    "        correct_pred += (predicted_labels == targets).sum()\n",
    "    return correct_pred.float()/num_examples * 100"
   ]
  },
  {
   "cell_type": "markdown",
   "metadata": {},
   "source": [
    "## MLP"
   ]
  },
  {
   "cell_type": "code",
   "execution_count": 110,
   "metadata": {},
   "outputs": [],
   "source": [
    "model = mlp.MLP()                 # For MLP\n",
    "model = model.to(device)"
   ]
  },
  {
   "cell_type": "code",
   "execution_count": 111,
   "metadata": {},
   "outputs": [],
   "source": [
    "optimizer = torch.optim.SGD(model.parameters(), lr=learning_rate)"
   ]
  },
  {
   "cell_type": "code",
   "execution_count": 112,
   "metadata": {},
   "outputs": [],
   "source": [
    "# 학습 데이터의 loss를 저장\n",
    "running_loss_history = []\n",
    "# 학습 데이터의 accuracy를 저장\n",
    "running_corrects_history = []\n",
    "# 평가 데이터의 loss를 저장\n",
    "val_running_loss_history = []\n",
    "# 평가 데이터의 accuracy를 저장\n",
    "val_running_corrects_history = []"
   ]
  },
  {
   "cell_type": "code",
   "execution_count": 40,
   "metadata": {
    "scrolled": false
   },
   "outputs": [
    {
     "name": "stdout",
     "output_type": "stream",
     "text": [
      "0\n",
      "Epoch: 001/010 | Batch 0000/0636 | Cost: 0.6947\n",
      "Epoch: 001/010 | Batch 0050/0636 | Cost: 0.6938\n",
      "Epoch: 001/010 | Batch 0100/0636 | Cost: 0.6923\n",
      "Epoch: 001/010 | Batch 0150/0636 | Cost: 0.6900\n",
      "Epoch: 001/010 | Batch 0200/0636 | Cost: 0.6884\n",
      "Epoch: 001/010 | Batch 0250/0636 | Cost: 0.6887\n",
      "Epoch: 001/010 | Batch 0300/0636 | Cost: 0.6882\n",
      "Epoch: 001/010 | Batch 0350/0636 | Cost: 0.6814\n",
      "Epoch: 001/010 | Batch 0400/0636 | Cost: 0.6817\n",
      "Epoch: 001/010 | Batch 0450/0636 | Cost: 0.6788\n",
      "Epoch: 001/010 | Batch 0500/0636 | Cost: 0.6841\n",
      "Epoch: 001/010 | Batch 0550/0636 | Cost: 0.6836\n",
      "Epoch: 001/010 | Batch 0600/0636 | Cost: 0.6844\n",
      "Epoch: 001/010 | Train: 56.626% | Valid: 57.427%\n",
      "Time elapsed: 0.37 min\n",
      "1\n",
      "Epoch: 002/010 | Batch 0000/0636 | Cost: 0.6840\n",
      "Epoch: 002/010 | Batch 0050/0636 | Cost: 0.6819\n",
      "Epoch: 002/010 | Batch 0100/0636 | Cost: 0.6793\n",
      "Epoch: 002/010 | Batch 0150/0636 | Cost: 0.6968\n",
      "Epoch: 002/010 | Batch 0200/0636 | Cost: 0.6882\n",
      "Epoch: 002/010 | Batch 0250/0636 | Cost: 0.6904\n",
      "Epoch: 002/010 | Batch 0300/0636 | Cost: 0.6805\n",
      "Epoch: 002/010 | Batch 0350/0636 | Cost: 0.6774\n",
      "Epoch: 002/010 | Batch 0400/0636 | Cost: 0.6756\n",
      "Epoch: 002/010 | Batch 0450/0636 | Cost: 0.6773\n",
      "Epoch: 002/010 | Batch 0500/0636 | Cost: 0.6892\n",
      "Epoch: 002/010 | Batch 0550/0636 | Cost: 0.6799\n",
      "Epoch: 002/010 | Batch 0600/0636 | Cost: 0.6636\n",
      "Epoch: 002/010 | Train: 58.063% | Valid: 57.427%\n",
      "Time elapsed: 0.70 min\n",
      "2\n",
      "Epoch: 003/010 | Batch 0000/0636 | Cost: 0.6721\n",
      "Epoch: 003/010 | Batch 0050/0636 | Cost: 0.6798\n",
      "Epoch: 003/010 | Batch 0100/0636 | Cost: 0.6756\n",
      "Epoch: 003/010 | Batch 0150/0636 | Cost: 0.6699\n",
      "Epoch: 003/010 | Batch 0200/0636 | Cost: 0.6905\n",
      "Epoch: 003/010 | Batch 0250/0636 | Cost: 0.6815\n",
      "Epoch: 003/010 | Batch 0300/0636 | Cost: 0.6789\n",
      "Epoch: 003/010 | Batch 0350/0636 | Cost: 0.6749\n",
      "Epoch: 003/010 | Batch 0400/0636 | Cost: 0.6713\n",
      "Epoch: 003/010 | Batch 0450/0636 | Cost: 0.6670\n",
      "Epoch: 003/010 | Batch 0500/0636 | Cost: 0.6875\n",
      "Epoch: 003/010 | Batch 0550/0636 | Cost: 0.6769\n",
      "Epoch: 003/010 | Batch 0600/0636 | Cost: 0.6724\n",
      "Epoch: 003/010 | Train: 58.063% | Valid: 57.427%\n",
      "Time elapsed: 1.03 min\n",
      "3\n",
      "Epoch: 004/010 | Batch 0000/0636 | Cost: 0.6677\n",
      "Epoch: 004/010 | Batch 0050/0636 | Cost: 0.6967\n",
      "Epoch: 004/010 | Batch 0100/0636 | Cost: 0.6556\n",
      "Epoch: 004/010 | Batch 0150/0636 | Cost: 0.6721\n",
      "Epoch: 004/010 | Batch 0200/0636 | Cost: 0.6629\n",
      "Epoch: 004/010 | Batch 0250/0636 | Cost: 0.6659\n",
      "Epoch: 004/010 | Batch 0300/0636 | Cost: 0.6749\n",
      "Epoch: 004/010 | Batch 0350/0636 | Cost: 0.6744\n",
      "Epoch: 004/010 | Batch 0400/0636 | Cost: 0.6675\n",
      "Epoch: 004/010 | Batch 0450/0636 | Cost: 0.6726\n",
      "Epoch: 004/010 | Batch 0500/0636 | Cost: 0.6766\n",
      "Epoch: 004/010 | Batch 0550/0636 | Cost: 0.6829\n",
      "Epoch: 004/010 | Batch 0600/0636 | Cost: 0.6851\n",
      "Epoch: 004/010 | Train: 58.063% | Valid: 57.427%\n",
      "Time elapsed: 1.36 min\n",
      "4\n",
      "Epoch: 005/010 | Batch 0000/0636 | Cost: 0.7000\n",
      "Epoch: 005/010 | Batch 0050/0636 | Cost: 0.6831\n",
      "Epoch: 005/010 | Batch 0100/0636 | Cost: 0.6755\n",
      "Epoch: 005/010 | Batch 0150/0636 | Cost: 0.6880\n",
      "Epoch: 005/010 | Batch 0200/0636 | Cost: 0.6777\n",
      "Epoch: 005/010 | Batch 0250/0636 | Cost: 0.6650\n",
      "Epoch: 005/010 | Batch 0300/0636 | Cost: 0.6665\n",
      "Epoch: 005/010 | Batch 0350/0636 | Cost: 0.6686\n",
      "Epoch: 005/010 | Batch 0400/0636 | Cost: 0.6841\n",
      "Epoch: 005/010 | Batch 0450/0636 | Cost: 0.6880\n",
      "Epoch: 005/010 | Batch 0500/0636 | Cost: 0.6547\n",
      "Epoch: 005/010 | Batch 0550/0636 | Cost: 0.6722\n",
      "Epoch: 005/010 | Batch 0600/0636 | Cost: 0.6820\n",
      "Epoch: 005/010 | Train: 58.063% | Valid: 57.427%\n",
      "Time elapsed: 1.70 min\n",
      "5\n",
      "Epoch: 006/010 | Batch 0000/0636 | Cost: 0.6833\n",
      "Epoch: 006/010 | Batch 0050/0636 | Cost: 0.6820\n",
      "Epoch: 006/010 | Batch 0100/0636 | Cost: 0.6692\n",
      "Epoch: 006/010 | Batch 0150/0636 | Cost: 0.6551\n",
      "Epoch: 006/010 | Batch 0200/0636 | Cost: 0.6771\n",
      "Epoch: 006/010 | Batch 0250/0636 | Cost: 0.6777\n",
      "Epoch: 006/010 | Batch 0300/0636 | Cost: 0.6745\n",
      "Epoch: 006/010 | Batch 0350/0636 | Cost: 0.6855\n",
      "Epoch: 006/010 | Batch 0400/0636 | Cost: 0.6678\n",
      "Epoch: 006/010 | Batch 0450/0636 | Cost: 0.6849\n",
      "Epoch: 006/010 | Batch 0500/0636 | Cost: 0.6684\n",
      "Epoch: 006/010 | Batch 0550/0636 | Cost: 0.6689\n",
      "Epoch: 006/010 | Batch 0600/0636 | Cost: 0.6702\n",
      "Epoch: 006/010 | Train: 58.063% | Valid: 57.427%\n",
      "Time elapsed: 2.04 min\n",
      "6\n",
      "Epoch: 007/010 | Batch 0000/0636 | Cost: 0.6640\n",
      "Epoch: 007/010 | Batch 0050/0636 | Cost: 0.6716\n",
      "Epoch: 007/010 | Batch 0100/0636 | Cost: 0.6702\n",
      "Epoch: 007/010 | Batch 0150/0636 | Cost: 0.6627\n",
      "Epoch: 007/010 | Batch 0200/0636 | Cost: 0.6656\n",
      "Epoch: 007/010 | Batch 0250/0636 | Cost: 0.6707\n",
      "Epoch: 007/010 | Batch 0300/0636 | Cost: 0.6821\n",
      "Epoch: 007/010 | Batch 0350/0636 | Cost: 0.6665\n",
      "Epoch: 007/010 | Batch 0400/0636 | Cost: 0.6617\n",
      "Epoch: 007/010 | Batch 0450/0636 | Cost: 0.6803\n",
      "Epoch: 007/010 | Batch 0500/0636 | Cost: 0.6809\n",
      "Epoch: 007/010 | Batch 0550/0636 | Cost: 0.6676\n",
      "Epoch: 007/010 | Batch 0600/0636 | Cost: 0.6699\n",
      "Epoch: 007/010 | Train: 58.063% | Valid: 57.427%\n",
      "Time elapsed: 2.37 min\n",
      "7\n",
      "Epoch: 008/010 | Batch 0000/0636 | Cost: 0.6695\n",
      "Epoch: 008/010 | Batch 0050/0636 | Cost: 0.6698\n",
      "Epoch: 008/010 | Batch 0100/0636 | Cost: 0.6692\n",
      "Epoch: 008/010 | Batch 0150/0636 | Cost: 0.6751\n",
      "Epoch: 008/010 | Batch 0200/0636 | Cost: 0.6643\n",
      "Epoch: 008/010 | Batch 0250/0636 | Cost: 0.6788\n",
      "Epoch: 008/010 | Batch 0300/0636 | Cost: 0.6554\n",
      "Epoch: 008/010 | Batch 0350/0636 | Cost: 0.6495\n",
      "Epoch: 008/010 | Batch 0400/0636 | Cost: 0.6547\n",
      "Epoch: 008/010 | Batch 0450/0636 | Cost: 0.6720\n",
      "Epoch: 008/010 | Batch 0500/0636 | Cost: 0.6756\n",
      "Epoch: 008/010 | Batch 0550/0636 | Cost: 0.6679\n",
      "Epoch: 008/010 | Batch 0600/0636 | Cost: 0.6787\n",
      "Epoch: 008/010 | Train: 58.063% | Valid: 57.427%\n",
      "Time elapsed: 2.72 min\n",
      "8\n",
      "Epoch: 009/010 | Batch 0000/0636 | Cost: 0.6847\n",
      "Epoch: 009/010 | Batch 0050/0636 | Cost: 0.6792\n",
      "Epoch: 009/010 | Batch 0100/0636 | Cost: 0.6893\n",
      "Epoch: 009/010 | Batch 0150/0636 | Cost: 0.6631\n",
      "Epoch: 009/010 | Batch 0200/0636 | Cost: 0.6638\n",
      "Epoch: 009/010 | Batch 0250/0636 | Cost: 0.6767\n",
      "Epoch: 009/010 | Batch 0300/0636 | Cost: 0.6799\n",
      "Epoch: 009/010 | Batch 0350/0636 | Cost: 0.6726\n",
      "Epoch: 009/010 | Batch 0400/0636 | Cost: 0.6812\n",
      "Epoch: 009/010 | Batch 0450/0636 | Cost: 0.6643\n",
      "Epoch: 009/010 | Batch 0500/0636 | Cost: 0.6599\n",
      "Epoch: 009/010 | Batch 0550/0636 | Cost: 0.6637\n",
      "Epoch: 009/010 | Batch 0600/0636 | Cost: 0.6685\n",
      "Epoch: 009/010 | Train: 58.063% | Valid: 57.427%\n",
      "Time elapsed: 3.05 min\n",
      "9\n",
      "Epoch: 010/010 | Batch 0000/0636 | Cost: 0.6889\n",
      "Epoch: 010/010 | Batch 0050/0636 | Cost: 0.6654\n",
      "Epoch: 010/010 | Batch 0100/0636 | Cost: 0.6606\n",
      "Epoch: 010/010 | Batch 0150/0636 | Cost: 0.6557\n",
      "Epoch: 010/010 | Batch 0200/0636 | Cost: 0.6589\n",
      "Epoch: 010/010 | Batch 0250/0636 | Cost: 0.6539\n",
      "Epoch: 010/010 | Batch 0300/0636 | Cost: 0.6256\n",
      "Epoch: 010/010 | Batch 0350/0636 | Cost: 0.6483\n",
      "Epoch: 010/010 | Batch 0400/0636 | Cost: 0.6503\n",
      "Epoch: 010/010 | Batch 0450/0636 | Cost: 0.6536\n",
      "Epoch: 010/010 | Batch 0500/0636 | Cost: 0.6680\n",
      "Epoch: 010/010 | Batch 0550/0636 | Cost: 0.6660\n",
      "Epoch: 010/010 | Batch 0600/0636 | Cost: 0.6452\n",
      "Epoch: 010/010 | Train: 58.063% | Valid: 57.427%\n",
      "Time elapsed: 3.39 min\n",
      "Total Training Time: 3.39 min\n"
     ]
    }
   ],
   "source": [
    "base_model_function(model, optimizer, num_epoch)"
   ]
  },
  {
   "cell_type": "markdown",
   "metadata": {},
   "source": [
    "### Evaluation"
   ]
  },
  {
   "cell_type": "code",
   "execution_count": 41,
   "metadata": {},
   "outputs": [
    {
     "name": "stdout",
     "output_type": "stream",
     "text": [
      "Test accuracy: 61.35%\n"
     ]
    }
   ],
   "source": [
    "with torch.set_grad_enabled(False): # save memory during inference\n",
    "    print('Test accuracy: %.2f%%' % (compute_accuracy(model, test_loader)))"
   ]
  },
  {
   "cell_type": "code",
   "execution_count": 42,
   "metadata": {},
   "outputs": [
    {
     "data": {
      "text/plain": [
       "<matplotlib.image.AxesImage at 0x7f319ad4edf0>"
      ]
     },
     "execution_count": 42,
     "metadata": {},
     "output_type": "execute_result"
    },
    {
     "data": {
      "image/png": "[encoded data removed]",
      "text/plain": [
       "<Figure size 432x288 with 1 Axes>"
      ]
     },
     "metadata": {
      "needs_background": "light"
     },
     "output_type": "display_data"
    }
   ],
   "source": [
    "for batch_idx, (features, targets) in enumerate(test_loader):\n",
    "\n",
    "    features = features\n",
    "    targets = targets\n",
    "    break\n",
    "    \n",
    "plt.imshow(np.transpose(features[0], (1, 2, 0)))"
   ]
  },
  {
   "cell_type": "code",
   "execution_count": 43,
   "metadata": {},
   "outputs": [
    {
     "name": "stdout",
     "output_type": "stream",
     "text": [
      "Probability Female 56.63%\n"
     ]
    }
   ],
   "source": [
    "model.eval()\n",
    "logits, probas = model(features.to(device)[0, None])\n",
    "print('Probability Female %.2f%%' % (probas[0][0]*100))"
   ]
  },
  {
   "cell_type": "markdown",
   "metadata": {},
   "source": [
    "### Visualization"
   ]
  },
  {
   "cell_type": "code",
   "execution_count": 44,
   "metadata": {},
   "outputs": [
    {
     "data": {
      "text/plain": [
       "<matplotlib.legend.Legend at 0x7f319069a160>"
      ]
     },
     "execution_count": 44,
     "metadata": {},
     "output_type": "execute_result"
    },
    {
     "data": {
      "image/png": "[encoded data removed]",
      "text/plain": [
       "<Figure size 432x288 with 1 Axes>"
      ]
     },
     "metadata": {
      "needs_background": "light"
     },
     "output_type": "display_data"
    }
   ],
   "source": [
    "plt.plot(running_loss_history, label='training loss')\n",
    "plt.plot(val_running_loss_history, label='validation loss')\n",
    "plt.legend()"
   ]
  },
  {
   "cell_type": "code",
   "execution_count": 45,
   "metadata": {},
   "outputs": [
    {
     "data": {
      "text/plain": [
       "<matplotlib.legend.Legend at 0x7f3190606cd0>"
      ]
     },
     "execution_count": 45,
     "metadata": {},
     "output_type": "execute_result"
    },
    {
     "data": {
      "image/png": "[encoded data removed]",
      "text/plain": [
       "<Figure size 432x288 with 1 Axes>"
      ]
     },
     "metadata": {
      "needs_background": "light"
     },
     "output_type": "display_data"
    }
   ],
   "source": [
    "np_running_corrects_history = []\n",
    "np_val_running_corrects_history = []\n",
    "\n",
    "for t, v_t in zip(running_corrects_history, val_running_corrects_history):\n",
    "    acc = t.cpu().numpy().max() \n",
    "    val_acc = v_t.cpu().numpy().max() \n",
    "    \n",
    "    np_running_corrects_history.append(acc)\n",
    "    np_val_running_corrects_history.append(val_acc)\n",
    "\n",
    "plt.plot(np_running_corrects_history, label='training acc')\n",
    "plt.plot(np_val_running_corrects_history, label='validation acc')\n",
    "plt.legend()"
   ]
  },
  {
   "cell_type": "markdown",
   "metadata": {},
   "source": [
    "## MLP with 20 epochs"
   ]
  },
  {
   "cell_type": "code",
   "execution_count": 115,
   "metadata": {},
   "outputs": [],
   "source": [
    "model = mlp.MLP()                 # For MLP\n",
    "model = model.to(device)\n",
    "\n",
    "optimizer = torch.optim.SGD(model.parameters(), lr=learning_rate)\n",
    "\n",
    "# 학습 데이터의 loss를 저장\n",
    "running_loss_history = []\n",
    "# 학습 데이터의 accuracy를 저장\n",
    "running_corrects_history = []\n",
    "# 평가 데이터의 loss를 저장\n",
    "val_running_loss_history = []\n",
    "# 평가 데이터의 accuracy를 저장\n",
    "val_running_corrects_history = []"
   ]
  },
  {
   "cell_type": "code",
   "execution_count": 116,
   "metadata": {
    "collapsed": true
   },
   "outputs": [
    {
     "name": "stdout",
     "output_type": "stream",
     "text": [
      "Epoch: 001/020 | Batch 0000/0636 | Cost: 0.6876\n",
      "Epoch: 001/020 | Batch 0050/0636 | Cost: 0.6872\n",
      "Epoch: 001/020 | Batch 0100/0636 | Cost: 0.6843\n",
      "Epoch: 001/020 | Batch 0150/0636 | Cost: 0.6851\n",
      "Epoch: 001/020 | Batch 0200/0636 | Cost: 0.6827\n",
      "Epoch: 001/020 | Batch 0250/0636 | Cost: 0.6789\n",
      "Epoch: 001/020 | Batch 0300/0636 | Cost: 0.6865\n",
      "Epoch: 001/020 | Batch 0350/0636 | Cost: 0.6868\n",
      "Epoch: 001/020 | Batch 0400/0636 | Cost: 0.6851\n",
      "Epoch: 001/020 | Batch 0450/0636 | Cost: 0.6876\n",
      "Epoch: 001/020 | Batch 0500/0636 | Cost: 0.6830\n",
      "Epoch: 001/020 | Batch 0550/0636 | Cost: 0.6778\n",
      "Epoch: 001/020 | Batch 0600/0636 | Cost: 0.6739\n",
      "Epoch: 001/020 | Train: 58.063% | Valid: 57.427%\n",
      "Time elapsed: 0.54 min\n",
      "Epoch: 002/020 | Batch 0000/0636 | Cost: 0.6853\n",
      "Epoch: 002/020 | Batch 0050/0636 | Cost: 0.6851\n",
      "Epoch: 002/020 | Batch 0100/0636 | Cost: 0.6802\n",
      "Epoch: 002/020 | Batch 0150/0636 | Cost: 0.6799\n",
      "Epoch: 002/020 | Batch 0200/0636 | Cost: 0.6800\n",
      "Epoch: 002/020 | Batch 0250/0636 | Cost: 0.6810\n",
      "Epoch: 002/020 | Batch 0300/0636 | Cost: 0.6735\n",
      "Epoch: 002/020 | Batch 0350/0636 | Cost: 0.6790\n",
      "Epoch: 002/020 | Batch 0400/0636 | Cost: 0.6823\n",
      "Epoch: 002/020 | Batch 0450/0636 | Cost: 0.6849\n",
      "Epoch: 002/020 | Batch 0500/0636 | Cost: 0.6782\n",
      "Epoch: 002/020 | Batch 0550/0636 | Cost: 0.6867\n",
      "Epoch: 002/020 | Batch 0600/0636 | Cost: 0.6787\n",
      "Epoch: 002/020 | Train: 58.063% | Valid: 57.427%\n",
      "Time elapsed: 1.09 min\n",
      "Epoch: 003/020 | Batch 0000/0636 | Cost: 0.6827\n",
      "Epoch: 003/020 | Batch 0050/0636 | Cost: 0.6890\n",
      "Epoch: 003/020 | Batch 0100/0636 | Cost: 0.6883\n",
      "Epoch: 003/020 | Batch 0150/0636 | Cost: 0.6782\n",
      "Epoch: 003/020 | Batch 0200/0636 | Cost: 0.6645\n",
      "Epoch: 003/020 | Batch 0250/0636 | Cost: 0.6754\n",
      "Epoch: 003/020 | Batch 0300/0636 | Cost: 0.6805\n",
      "Epoch: 003/020 | Batch 0350/0636 | Cost: 0.6773\n",
      "Epoch: 003/020 | Batch 0400/0636 | Cost: 0.6813\n",
      "Epoch: 003/020 | Batch 0450/0636 | Cost: 0.6709\n",
      "Epoch: 003/020 | Batch 0500/0636 | Cost: 0.6906\n",
      "Epoch: 003/020 | Batch 0550/0636 | Cost: 0.6890\n",
      "Epoch: 003/020 | Batch 0600/0636 | Cost: 0.6704\n",
      "Epoch: 003/020 | Train: 58.063% | Valid: 57.427%\n",
      "Time elapsed: 1.67 min\n",
      "Epoch: 004/020 | Batch 0000/0636 | Cost: 0.6736\n",
      "Epoch: 004/020 | Batch 0050/0636 | Cost: 0.6754\n",
      "Epoch: 004/020 | Batch 0100/0636 | Cost: 0.6692\n",
      "Epoch: 004/020 | Batch 0150/0636 | Cost: 0.6789\n",
      "Epoch: 004/020 | Batch 0200/0636 | Cost: 0.6662\n",
      "Epoch: 004/020 | Batch 0250/0636 | Cost: 0.6638\n",
      "Epoch: 004/020 | Batch 0300/0636 | Cost: 0.6808\n",
      "Epoch: 004/020 | Batch 0350/0636 | Cost: 0.6630\n",
      "Epoch: 004/020 | Batch 0400/0636 | Cost: 0.6928\n",
      "Epoch: 004/020 | Batch 0450/0636 | Cost: 0.6549\n",
      "Epoch: 004/020 | Batch 0500/0636 | Cost: 0.6849\n",
      "Epoch: 004/020 | Batch 0550/0636 | Cost: 0.6862\n",
      "Epoch: 004/020 | Batch 0600/0636 | Cost: 0.7021\n",
      "Epoch: 004/020 | Train: 58.063% | Valid: 57.427%\n",
      "Time elapsed: 2.24 min\n",
      "Epoch: 005/020 | Batch 0000/0636 | Cost: 0.6663\n",
      "Epoch: 005/020 | Batch 0050/0636 | Cost: 0.6733\n",
      "Epoch: 005/020 | Batch 0100/0636 | Cost: 0.6733\n",
      "Epoch: 005/020 | Batch 0150/0636 | Cost: 0.6988\n",
      "Epoch: 005/020 | Batch 0200/0636 | Cost: 0.6816\n",
      "Epoch: 005/020 | Batch 0250/0636 | Cost: 0.6761\n",
      "Epoch: 005/020 | Batch 0300/0636 | Cost: 0.6830\n",
      "Epoch: 005/020 | Batch 0350/0636 | Cost: 0.6578\n",
      "Epoch: 005/020 | Batch 0400/0636 | Cost: 0.6782\n",
      "Epoch: 005/020 | Batch 0450/0636 | Cost: 0.6882\n",
      "Epoch: 005/020 | Batch 0500/0636 | Cost: 0.6642\n",
      "Epoch: 005/020 | Batch 0550/0636 | Cost: 0.6705\n",
      "Epoch: 005/020 | Batch 0600/0636 | Cost: 0.6795\n",
      "Epoch: 005/020 | Train: 58.063% | Valid: 57.427%\n",
      "Time elapsed: 2.80 min\n",
      "Epoch: 006/020 | Batch 0000/0636 | Cost: 0.6779\n",
      "Epoch: 006/020 | Batch 0050/0636 | Cost: 0.6611\n",
      "Epoch: 006/020 | Batch 0100/0636 | Cost: 0.6780\n",
      "Epoch: 006/020 | Batch 0150/0636 | Cost: 0.6605\n",
      "Epoch: 006/020 | Batch 0200/0636 | Cost: 0.6551\n",
      "Epoch: 006/020 | Batch 0250/0636 | Cost: 0.6796\n",
      "Epoch: 006/020 | Batch 0300/0636 | Cost: 0.6614\n",
      "Epoch: 006/020 | Batch 0350/0636 | Cost: 0.6870\n",
      "Epoch: 006/020 | Batch 0400/0636 | Cost: 0.6805\n",
      "Epoch: 006/020 | Batch 0450/0636 | Cost: 0.6704\n",
      "Epoch: 006/020 | Batch 0500/0636 | Cost: 0.6734\n",
      "Epoch: 006/020 | Batch 0550/0636 | Cost: 0.6735\n",
      "Epoch: 006/020 | Batch 0600/0636 | Cost: 0.6446\n",
      "Epoch: 006/020 | Train: 58.063% | Valid: 57.427%\n",
      "Time elapsed: 3.29 min\n",
      "Epoch: 007/020 | Batch 0000/0636 | Cost: 0.6559\n",
      "Epoch: 007/020 | Batch 0050/0636 | Cost: 0.6408\n",
      "Epoch: 007/020 | Batch 0100/0636 | Cost: 0.6545\n",
      "Epoch: 007/020 | Batch 0150/0636 | Cost: 0.6560\n",
      "Epoch: 007/020 | Batch 0200/0636 | Cost: 0.6569\n",
      "Epoch: 007/020 | Batch 0250/0636 | Cost: 0.6707\n",
      "Epoch: 007/020 | Batch 0300/0636 | Cost: 0.6786\n",
      "Epoch: 007/020 | Batch 0350/0636 | Cost: 0.6669\n",
      "Epoch: 007/020 | Batch 0400/0636 | Cost: 0.6648\n",
      "Epoch: 007/020 | Batch 0450/0636 | Cost: 0.6735\n",
      "Epoch: 007/020 | Batch 0500/0636 | Cost: 0.6683\n",
      "Epoch: 007/020 | Batch 0550/0636 | Cost: 0.6521\n",
      "Epoch: 007/020 | Batch 0600/0636 | Cost: 0.6565\n",
      "Epoch: 007/020 | Train: 58.063% | Valid: 57.427%\n",
      "Time elapsed: 3.86 min\n",
      "Epoch: 008/020 | Batch 0000/0636 | Cost: 0.6660\n",
      "Epoch: 008/020 | Batch 0050/0636 | Cost: 0.6649\n",
      "Epoch: 008/020 | Batch 0100/0636 | Cost: 0.6823\n",
      "Epoch: 008/020 | Batch 0150/0636 | Cost: 0.6627\n",
      "Epoch: 008/020 | Batch 0200/0636 | Cost: 0.6859\n",
      "Epoch: 008/020 | Batch 0250/0636 | Cost: 0.6519\n",
      "Epoch: 008/020 | Batch 0300/0636 | Cost: 0.6592\n",
      "Epoch: 008/020 | Batch 0350/0636 | Cost: 0.6739\n",
      "Epoch: 008/020 | Batch 0400/0636 | Cost: 0.6719\n",
      "Epoch: 008/020 | Batch 0450/0636 | Cost: 0.6779\n",
      "Epoch: 008/020 | Batch 0500/0636 | Cost: 0.6499\n",
      "Epoch: 008/020 | Batch 0550/0636 | Cost: 0.6612\n",
      "Epoch: 008/020 | Batch 0600/0636 | Cost: 0.6698\n",
      "Epoch: 008/020 | Train: 58.063% | Valid: 57.427%\n",
      "Time elapsed: 4.42 min\n",
      "Epoch: 009/020 | Batch 0000/0636 | Cost: 0.6412\n",
      "Epoch: 009/020 | Batch 0050/0636 | Cost: 0.6594\n",
      "Epoch: 009/020 | Batch 0100/0636 | Cost: 0.6411\n",
      "Epoch: 009/020 | Batch 0150/0636 | Cost: 0.6552\n",
      "Epoch: 009/020 | Batch 0200/0636 | Cost: 0.6584\n",
      "Epoch: 009/020 | Batch 0250/0636 | Cost: 0.6655\n",
      "Epoch: 009/020 | Batch 0300/0636 | Cost: 0.6529\n",
      "Epoch: 009/020 | Batch 0350/0636 | Cost: 0.6707\n",
      "Epoch: 009/020 | Batch 0400/0636 | Cost: 0.6612\n",
      "Epoch: 009/020 | Batch 0450/0636 | Cost: 0.6691\n",
      "Epoch: 009/020 | Batch 0500/0636 | Cost: 0.6559\n",
      "Epoch: 009/020 | Batch 0550/0636 | Cost: 0.6321\n",
      "Epoch: 009/020 | Batch 0600/0636 | Cost: 0.6596\n",
      "Epoch: 009/020 | Train: 58.063% | Valid: 57.427%\n",
      "Time elapsed: 4.98 min\n",
      "Epoch: 010/020 | Batch 0000/0636 | Cost: 0.6317\n",
      "Epoch: 010/020 | Batch 0050/0636 | Cost: 0.6471\n",
      "Epoch: 010/020 | Batch 0100/0636 | Cost: 0.6589\n",
      "Epoch: 010/020 | Batch 0150/0636 | Cost: 0.6520\n",
      "Epoch: 010/020 | Batch 0200/0636 | Cost: 0.6497\n",
      "Epoch: 010/020 | Batch 0250/0636 | Cost: 0.6605\n",
      "Epoch: 010/020 | Batch 0300/0636 | Cost: 0.6362\n",
      "Epoch: 010/020 | Batch 0350/0636 | Cost: 0.6695\n",
      "Epoch: 010/020 | Batch 0400/0636 | Cost: 0.6489\n",
      "Epoch: 010/020 | Batch 0450/0636 | Cost: 0.6483\n",
      "Epoch: 010/020 | Batch 0500/0636 | Cost: 0.6466\n",
      "Epoch: 010/020 | Batch 0550/0636 | Cost: 0.6484\n",
      "Epoch: 010/020 | Batch 0600/0636 | Cost: 0.6430\n",
      "Epoch: 010/020 | Train: 58.182% | Valid: 58.122%\n",
      "Time elapsed: 5.56 min\n",
      "Epoch: 011/020 | Batch 0000/0636 | Cost: 0.6391\n",
      "Epoch: 011/020 | Batch 0050/0636 | Cost: 0.6503\n",
      "Epoch: 011/020 | Batch 0100/0636 | Cost: 0.6515\n",
      "Epoch: 011/020 | Batch 0150/0636 | Cost: 0.6429\n",
      "Epoch: 011/020 | Batch 0200/0636 | Cost: 0.6358\n",
      "Epoch: 011/020 | Batch 0250/0636 | Cost: 0.6521\n",
      "Epoch: 011/020 | Batch 0300/0636 | Cost: 0.6302\n",
      "Epoch: 011/020 | Batch 0350/0636 | Cost: 0.6305\n",
      "Epoch: 011/020 | Batch 0400/0636 | Cost: 0.6384\n",
      "Epoch: 011/020 | Batch 0450/0636 | Cost: 0.6452\n",
      "Epoch: 011/020 | Batch 0500/0636 | Cost: 0.6382\n",
      "Epoch: 011/020 | Batch 0550/0636 | Cost: 0.6339\n",
      "Epoch: 011/020 | Batch 0600/0636 | Cost: 0.6407\n",
      "Epoch: 011/020 | Train: 59.836% | Valid: 61.272%\n",
      "Time elapsed: 6.13 min\n",
      "Epoch: 012/020 | Batch 0000/0636 | Cost: 0.6256\n",
      "Epoch: 012/020 | Batch 0050/0636 | Cost: 0.6565\n",
      "Epoch: 012/020 | Batch 0100/0636 | Cost: 0.6514\n",
      "Epoch: 012/020 | Batch 0150/0636 | Cost: 0.6399\n",
      "Epoch: 012/020 | Batch 0200/0636 | Cost: 0.6303\n",
      "Epoch: 012/020 | Batch 0250/0636 | Cost: 0.6448\n",
      "Epoch: 012/020 | Batch 0300/0636 | Cost: 0.6320\n",
      "Epoch: 012/020 | Batch 0350/0636 | Cost: 0.6379\n",
      "Epoch: 012/020 | Batch 0400/0636 | Cost: 0.6390\n",
      "Epoch: 012/020 | Batch 0450/0636 | Cost: 0.6189\n",
      "Epoch: 012/020 | Batch 0500/0636 | Cost: 0.6262\n",
      "Epoch: 012/020 | Batch 0550/0636 | Cost: 0.6408\n",
      "Epoch: 012/020 | Batch 0600/0636 | Cost: 0.6313\n",
      "Epoch: 012/020 | Train: 62.885% | Valid: 64.524%\n",
      "Time elapsed: 6.68 min\n",
      "Epoch: 013/020 | Batch 0000/0636 | Cost: 0.6190\n",
      "Epoch: 013/020 | Batch 0050/0636 | Cost: 0.6251\n",
      "Epoch: 013/020 | Batch 0100/0636 | Cost: 0.6217\n",
      "Epoch: 013/020 | Batch 0150/0636 | Cost: 0.6164\n",
      "Epoch: 013/020 | Batch 0200/0636 | Cost: 0.6150\n",
      "Epoch: 013/020 | Batch 0250/0636 | Cost: 0.6297\n",
      "Epoch: 013/020 | Batch 0300/0636 | Cost: 0.6192\n",
      "Epoch: 013/020 | Batch 0350/0636 | Cost: 0.6145\n",
      "Epoch: 013/020 | Batch 0400/0636 | Cost: 0.6032\n",
      "Epoch: 013/020 | Batch 0450/0636 | Cost: 0.6246\n",
      "Epoch: 013/020 | Batch 0500/0636 | Cost: 0.5919\n",
      "Epoch: 013/020 | Batch 0550/0636 | Cost: 0.6211\n",
      "Epoch: 013/020 | Batch 0600/0636 | Cost: 0.6102\n",
      "Epoch: 013/020 | Train: 65.397% | Valid: 67.237%\n",
      "Time elapsed: 7.23 min\n",
      "Epoch: 014/020 | Batch 0000/0636 | Cost: 0.6129\n",
      "Epoch: 014/020 | Batch 0050/0636 | Cost: 0.6114\n",
      "Epoch: 014/020 | Batch 0100/0636 | Cost: 0.6276\n",
      "Epoch: 014/020 | Batch 0150/0636 | Cost: 0.5975\n",
      "Epoch: 014/020 | Batch 0200/0636 | Cost: 0.5987\n",
      "Epoch: 014/020 | Batch 0250/0636 | Cost: 0.5715\n",
      "Epoch: 014/020 | Batch 0300/0636 | Cost: 0.6025\n",
      "Epoch: 014/020 | Batch 0350/0636 | Cost: 0.6136\n",
      "Epoch: 014/020 | Batch 0400/0636 | Cost: 0.6074\n",
      "Epoch: 014/020 | Batch 0450/0636 | Cost: 0.5937\n",
      "Epoch: 014/020 | Batch 0500/0636 | Cost: 0.5793\n",
      "Epoch: 014/020 | Batch 0550/0636 | Cost: 0.5718\n",
      "Epoch: 014/020 | Batch 0600/0636 | Cost: 0.6063\n",
      "Epoch: 014/020 | Train: 67.475% | Valid: 69.094%\n",
      "Time elapsed: 7.78 min\n",
      "Epoch: 015/020 | Batch 0000/0636 | Cost: 0.5914\n",
      "Epoch: 015/020 | Batch 0050/0636 | Cost: 0.6005\n",
      "Epoch: 015/020 | Batch 0100/0636 | Cost: 0.5665\n",
      "Epoch: 015/020 | Batch 0150/0636 | Cost: 0.5932\n",
      "Epoch: 015/020 | Batch 0200/0636 | Cost: 0.5721\n",
      "Epoch: 015/020 | Batch 0250/0636 | Cost: 0.5789\n",
      "Epoch: 015/020 | Batch 0300/0636 | Cost: 0.5887\n",
      "Epoch: 015/020 | Batch 0350/0636 | Cost: 0.5914\n",
      "Epoch: 015/020 | Batch 0400/0636 | Cost: 0.5673\n",
      "Epoch: 015/020 | Batch 0450/0636 | Cost: 0.5885\n",
      "Epoch: 015/020 | Batch 0500/0636 | Cost: 0.5993\n",
      "Epoch: 015/020 | Batch 0550/0636 | Cost: 0.5440\n",
      "Epoch: 015/020 | Batch 0600/0636 | Cost: 0.5654\n",
      "Epoch: 015/020 | Train: 69.321% | Valid: 71.058%\n",
      "Time elapsed: 8.32 min\n",
      "Epoch: 016/020 | Batch 0000/0636 | Cost: 0.5708\n",
      "Epoch: 016/020 | Batch 0050/0636 | Cost: 0.5953\n",
      "Epoch: 016/020 | Batch 0100/0636 | Cost: 0.5632\n",
      "Epoch: 016/020 | Batch 0150/0636 | Cost: 0.5356\n",
      "Epoch: 016/020 | Batch 0200/0636 | Cost: 0.5443\n",
      "Epoch: 016/020 | Batch 0250/0636 | Cost: 0.5194\n",
      "Epoch: 016/020 | Batch 0300/0636 | Cost: 0.5784\n",
      "Epoch: 016/020 | Batch 0350/0636 | Cost: 0.5359\n",
      "Epoch: 016/020 | Batch 0400/0636 | Cost: 0.5548\n",
      "Epoch: 016/020 | Batch 0450/0636 | Cost: 0.5910\n",
      "Epoch: 016/020 | Batch 0500/0636 | Cost: 0.5401\n",
      "Epoch: 016/020 | Batch 0550/0636 | Cost: 0.5558\n",
      "Epoch: 016/020 | Batch 0600/0636 | Cost: 0.5563\n",
      "Epoch: 016/020 | Train: 71.452% | Valid: 73.282%\n",
      "Time elapsed: 8.87 min\n",
      "Epoch: 017/020 | Batch 0000/0636 | Cost: 0.5727\n",
      "Epoch: 017/020 | Batch 0050/0636 | Cost: 0.5541\n",
      "Epoch: 017/020 | Batch 0100/0636 | Cost: 0.5684\n",
      "Epoch: 017/020 | Batch 0150/0636 | Cost: 0.5580\n",
      "Epoch: 017/020 | Batch 0200/0636 | Cost: 0.5007\n",
      "Epoch: 017/020 | Batch 0250/0636 | Cost: 0.5270\n",
      "Epoch: 017/020 | Batch 0300/0636 | Cost: 0.5479\n",
      "Epoch: 017/020 | Batch 0350/0636 | Cost: 0.5201\n",
      "Epoch: 017/020 | Batch 0400/0636 | Cost: 0.5165\n",
      "Epoch: 017/020 | Batch 0450/0636 | Cost: 0.5484\n",
      "Epoch: 017/020 | Batch 0500/0636 | Cost: 0.5362\n",
      "Epoch: 017/020 | Batch 0550/0636 | Cost: 0.5436\n",
      "Epoch: 017/020 | Batch 0600/0636 | Cost: 0.5124\n",
      "Epoch: 017/020 | Train: 73.765% | Valid: 75.250%\n",
      "Time elapsed: 9.43 min\n",
      "Epoch: 018/020 | Batch 0000/0636 | Cost: 0.5390\n",
      "Epoch: 018/020 | Batch 0050/0636 | Cost: 0.5191\n",
      "Epoch: 018/020 | Batch 0100/0636 | Cost: 0.4998\n",
      "Epoch: 018/020 | Batch 0150/0636 | Cost: 0.5009\n",
      "Epoch: 018/020 | Batch 0200/0636 | Cost: 0.4797\n",
      "Epoch: 018/020 | Batch 0250/0636 | Cost: 0.5060\n",
      "Epoch: 018/020 | Batch 0300/0636 | Cost: 0.4964\n",
      "Epoch: 018/020 | Batch 0350/0636 | Cost: 0.5406\n",
      "Epoch: 018/020 | Batch 0400/0636 | Cost: 0.5304\n",
      "Epoch: 018/020 | Batch 0450/0636 | Cost: 0.4946\n",
      "Epoch: 018/020 | Batch 0500/0636 | Cost: 0.4849\n",
      "Epoch: 018/020 | Batch 0550/0636 | Cost: 0.4937\n",
      "Epoch: 018/020 | Batch 0600/0636 | Cost: 0.4728\n",
      "Epoch: 018/020 | Train: 76.135% | Valid: 78.286%\n",
      "Time elapsed: 9.97 min\n",
      "Epoch: 019/020 | Batch 0000/0636 | Cost: 0.5406\n",
      "Epoch: 019/020 | Batch 0050/0636 | Cost: 0.4719\n",
      "Epoch: 019/020 | Batch 0100/0636 | Cost: 0.5117\n",
      "Epoch: 019/020 | Batch 0150/0636 | Cost: 0.4617\n",
      "Epoch: 019/020 | Batch 0200/0636 | Cost: 0.4688\n",
      "Epoch: 019/020 | Batch 0250/0636 | Cost: 0.4546\n",
      "Epoch: 019/020 | Batch 0300/0636 | Cost: 0.4412\n",
      "Epoch: 019/020 | Batch 0350/0636 | Cost: 0.4802\n",
      "Epoch: 019/020 | Batch 0400/0636 | Cost: 0.4790\n",
      "Epoch: 019/020 | Batch 0450/0636 | Cost: 0.4339\n",
      "Epoch: 019/020 | Batch 0500/0636 | Cost: 0.4657\n",
      "Epoch: 019/020 | Batch 0550/0636 | Cost: 0.4950\n",
      "Epoch: 019/020 | Batch 0600/0636 | Cost: 0.4464\n",
      "Epoch: 019/020 | Train: 78.267% | Valid: 79.338%\n",
      "Time elapsed: 10.52 min\n",
      "Epoch: 020/020 | Batch 0000/0636 | Cost: 0.4630\n",
      "Epoch: 020/020 | Batch 0050/0636 | Cost: 0.4825\n",
      "Epoch: 020/020 | Batch 0100/0636 | Cost: 0.4825\n",
      "Epoch: 020/020 | Batch 0150/0636 | Cost: 0.4725\n",
      "Epoch: 020/020 | Batch 0200/0636 | Cost: 0.4642\n",
      "Epoch: 020/020 | Batch 0250/0636 | Cost: 0.4639\n",
      "Epoch: 020/020 | Batch 0300/0636 | Cost: 0.4730\n",
      "Epoch: 020/020 | Batch 0350/0636 | Cost: 0.4722\n",
      "Epoch: 020/020 | Batch 0400/0636 | Cost: 0.4595\n",
      "Epoch: 020/020 | Batch 0450/0636 | Cost: 0.4514\n",
      "Epoch: 020/020 | Batch 0500/0636 | Cost: 0.4086\n",
      "Epoch: 020/020 | Batch 0550/0636 | Cost: 0.4444\n",
      "Epoch: 020/020 | Batch 0600/0636 | Cost: 0.4160\n",
      "Epoch: 020/020 | Train: 80.018% | Valid: 81.970%\n",
      "Time elapsed: 11.06 min\n",
      "Total Training Time: 11.06 min\n"
     ]
    }
   ],
   "source": [
    "## MLP with 20 epochs\n",
    "base_model_function(model, optimizer, 20)"
   ]
  },
  {
   "cell_type": "markdown",
   "metadata": {},
   "source": [
    "### Visualization"
   ]
  },
  {
   "cell_type": "code",
   "execution_count": 117,
   "metadata": {},
   "outputs": [
    {
     "data": {
      "text/plain": [
       "<matplotlib.legend.Legend at 0x7f310837c310>"
      ]
     },
     "execution_count": 117,
     "metadata": {},
     "output_type": "execute_result"
    },
    {
     "data": {
      "image/png": "[encoded data removed]",
      "text/plain": [
       "<Figure size 432x288 with 1 Axes>"
      ]
     },
     "metadata": {
      "needs_background": "light"
     },
     "output_type": "display_data"
    }
   ],
   "source": [
    "plt.plot(running_loss_history, label='training loss')\n",
    "plt.plot(val_running_loss_history, label='validation loss')\n",
    "plt.legend()"
   ]
  },
  {
   "cell_type": "code",
   "execution_count": 118,
   "metadata": {},
   "outputs": [
    {
     "data": {
      "text/plain": [
       "<matplotlib.legend.Legend at 0x7f30d55c1b80>"
      ]
     },
     "execution_count": 118,
     "metadata": {},
     "output_type": "execute_result"
    },
    {
     "data": {
      "image/png": "[encoded data removed]",
      "text/plain": [
       "<Figure size 432x288 with 1 Axes>"
      ]
     },
     "metadata": {
      "needs_background": "light"
     },
     "output_type": "display_data"
    }
   ],
   "source": [
    "np_running_corrects_history = []\n",
    "np_val_running_corrects_history = []\n",
    "\n",
    "for t, v_t in zip(running_corrects_history, val_running_corrects_history):\n",
    "    acc = t.cpu().numpy().max() \n",
    "    val_acc = v_t.cpu().numpy().max() \n",
    "    \n",
    "    np_running_corrects_history.append(acc)\n",
    "    np_val_running_corrects_history.append(val_acc)\n",
    "\n",
    "plt.plot(np_running_corrects_history, label='training acc')\n",
    "plt.plot(np_val_running_corrects_history, label='validation acc')\n",
    "plt.legend()"
   ]
  },
  {
   "cell_type": "markdown",
   "metadata": {},
   "source": [
    "## MLP with larger learning rate (0.001 -> 0.1)"
   ]
  },
  {
   "cell_type": "code",
   "execution_count": 119,
   "metadata": {},
   "outputs": [],
   "source": [
    "model = mlp.MLP()                 # For MLP\n",
    "model = model.to(device)\n",
    "\n",
    "## bigger learning rate 0.001 -> 0.01\n",
    "optimizer = torch.optim.SGD(model.parameters(), lr=0.01)\n",
    "\n",
    "# 학습 데이터의 loss를 저장\n",
    "running_loss_history = []\n",
    "# 학습 데이터의 accuracy를 저장\n",
    "running_corrects_history = []\n",
    "# 평가 데이터의 loss를 저장\n",
    "val_running_loss_history = []\n",
    "# 평가 데이터의 accuracy를 저장\n",
    "val_running_corrects_history = []"
   ]
  },
  {
   "cell_type": "code",
   "execution_count": 120,
   "metadata": {
    "collapsed": true
   },
   "outputs": [
    {
     "name": "stdout",
     "output_type": "stream",
     "text": [
      "Epoch: 001/010 | Batch 0000/0636 | Cost: 0.6911\n",
      "Epoch: 001/010 | Batch 0050/0636 | Cost: 0.6844\n",
      "Epoch: 001/010 | Batch 0100/0636 | Cost: 0.6738\n",
      "Epoch: 001/010 | Batch 0150/0636 | Cost: 0.7032\n",
      "Epoch: 001/010 | Batch 0200/0636 | Cost: 0.6675\n",
      "Epoch: 001/010 | Batch 0250/0636 | Cost: 0.6684\n",
      "Epoch: 001/010 | Batch 0300/0636 | Cost: 0.6684\n",
      "Epoch: 001/010 | Batch 0350/0636 | Cost: 0.6819\n",
      "Epoch: 001/010 | Batch 0400/0636 | Cost: 0.6662\n",
      "Epoch: 001/010 | Batch 0450/0636 | Cost: 0.6720\n",
      "Epoch: 001/010 | Batch 0500/0636 | Cost: 0.6800\n",
      "Epoch: 001/010 | Batch 0550/0636 | Cost: 0.6542\n",
      "Epoch: 001/010 | Batch 0600/0636 | Cost: 0.6590\n",
      "Epoch: 001/010 | Train: 58.063% | Valid: 57.427%\n",
      "Time elapsed: 0.55 min\n",
      "Epoch: 002/010 | Batch 0000/0636 | Cost: 0.6426\n",
      "Epoch: 002/010 | Batch 0050/0636 | Cost: 0.6743\n",
      "Epoch: 002/010 | Batch 0100/0636 | Cost: 0.6717\n",
      "Epoch: 002/010 | Batch 0150/0636 | Cost: 0.6434\n",
      "Epoch: 002/010 | Batch 0200/0636 | Cost: 0.6383\n",
      "Epoch: 002/010 | Batch 0250/0636 | Cost: 0.6293\n",
      "Epoch: 002/010 | Batch 0300/0636 | Cost: 0.5879\n",
      "Epoch: 002/010 | Batch 0350/0636 | Cost: 0.6111\n",
      "Epoch: 002/010 | Batch 0400/0636 | Cost: 0.5788\n",
      "Epoch: 002/010 | Batch 0450/0636 | Cost: 0.5976\n",
      "Epoch: 002/010 | Batch 0500/0636 | Cost: 0.5308\n",
      "Epoch: 002/010 | Batch 0550/0636 | Cost: 0.5560\n",
      "Epoch: 002/010 | Batch 0600/0636 | Cost: 0.5163\n",
      "Epoch: 002/010 | Train: 66.167% | Valid: 77.767%\n",
      "Time elapsed: 1.10 min\n",
      "Epoch: 003/010 | Batch 0000/0636 | Cost: 0.4925\n",
      "Epoch: 003/010 | Batch 0050/0636 | Cost: 0.5364\n",
      "Epoch: 003/010 | Batch 0100/0636 | Cost: 0.4649\n",
      "Epoch: 003/010 | Batch 0150/0636 | Cost: 0.5388\n",
      "Epoch: 003/010 | Batch 0200/0636 | Cost: 0.4577\n",
      "Epoch: 003/010 | Batch 0250/0636 | Cost: 0.4571\n",
      "Epoch: 003/010 | Batch 0300/0636 | Cost: 0.4671\n",
      "Epoch: 003/010 | Batch 0350/0636 | Cost: 0.4636\n",
      "Epoch: 003/010 | Batch 0400/0636 | Cost: 0.4085\n",
      "Epoch: 003/010 | Batch 0450/0636 | Cost: 0.4658\n",
      "Epoch: 003/010 | Batch 0500/0636 | Cost: 0.4624\n",
      "Epoch: 003/010 | Batch 0550/0636 | Cost: 0.4793\n",
      "Epoch: 003/010 | Batch 0600/0636 | Cost: 0.4570\n",
      "Epoch: 003/010 | Train: 77.548% | Valid: 84.884%\n",
      "Time elapsed: 1.65 min\n",
      "Epoch: 004/010 | Batch 0000/0636 | Cost: 0.4544\n",
      "Epoch: 004/010 | Batch 0050/0636 | Cost: 0.3926\n",
      "Epoch: 004/010 | Batch 0100/0636 | Cost: 0.4673\n",
      "Epoch: 004/010 | Batch 0150/0636 | Cost: 0.3672\n",
      "Epoch: 004/010 | Batch 0200/0636 | Cost: 0.4239\n",
      "Epoch: 004/010 | Batch 0250/0636 | Cost: 0.4116\n",
      "Epoch: 004/010 | Batch 0300/0636 | Cost: 0.4212\n",
      "Epoch: 004/010 | Batch 0350/0636 | Cost: 0.4207\n",
      "Epoch: 004/010 | Batch 0400/0636 | Cost: 0.4396\n",
      "Epoch: 004/010 | Batch 0450/0636 | Cost: 0.3687\n",
      "Epoch: 004/010 | Batch 0500/0636 | Cost: 0.3606\n",
      "Epoch: 004/010 | Batch 0550/0636 | Cost: 0.4018\n",
      "Epoch: 004/010 | Batch 0600/0636 | Cost: 0.4661\n",
      "Epoch: 004/010 | Train: 81.569% | Valid: 75.034%\n",
      "Time elapsed: 2.19 min\n",
      "Epoch: 005/010 | Batch 0000/0636 | Cost: 0.5230\n",
      "Epoch: 005/010 | Batch 0050/0636 | Cost: 0.5925\n",
      "Epoch: 005/010 | Batch 0100/0636 | Cost: 0.5310\n",
      "Epoch: 005/010 | Batch 0150/0636 | Cost: 0.3631\n",
      "Epoch: 005/010 | Batch 0200/0636 | Cost: 0.2931\n",
      "Epoch: 005/010 | Batch 0250/0636 | Cost: 0.4210\n",
      "Epoch: 005/010 | Batch 0300/0636 | Cost: 0.3576\n",
      "Epoch: 005/010 | Batch 0350/0636 | Cost: 0.3773\n",
      "Epoch: 005/010 | Batch 0400/0636 | Cost: 0.2963\n",
      "Epoch: 005/010 | Batch 0450/0636 | Cost: 0.3198\n",
      "Epoch: 005/010 | Batch 0500/0636 | Cost: 0.3500\n",
      "Epoch: 005/010 | Batch 0550/0636 | Cost: 0.2886\n",
      "Epoch: 005/010 | Batch 0600/0636 | Cost: 0.4096\n",
      "Epoch: 005/010 | Train: 83.828% | Valid: 89.712%\n",
      "Time elapsed: 2.74 min\n",
      "Epoch: 006/010 | Batch 0000/0636 | Cost: 0.3314\n",
      "Epoch: 006/010 | Batch 0050/0636 | Cost: 0.2816\n",
      "Epoch: 006/010 | Batch 0100/0636 | Cost: 0.2841\n",
      "Epoch: 006/010 | Batch 0150/0636 | Cost: 0.3655\n",
      "Epoch: 006/010 | Batch 0200/0636 | Cost: 0.3901\n",
      "Epoch: 006/010 | Batch 0250/0636 | Cost: 0.4375\n",
      "Epoch: 006/010 | Batch 0300/0636 | Cost: 0.2758\n",
      "Epoch: 006/010 | Batch 0350/0636 | Cost: 0.5048\n",
      "Epoch: 006/010 | Batch 0400/0636 | Cost: 0.3027\n",
      "Epoch: 006/010 | Batch 0450/0636 | Cost: 0.3491\n",
      "Epoch: 006/010 | Batch 0500/0636 | Cost: 0.6027\n",
      "Epoch: 006/010 | Batch 0550/0636 | Cost: 0.2868\n",
      "Epoch: 006/010 | Batch 0600/0636 | Cost: 0.3272\n",
      "Epoch: 006/010 | Train: 85.562% | Valid: 90.582%\n",
      "Time elapsed: 3.30 min\n",
      "Epoch: 007/010 | Batch 0000/0636 | Cost: 0.2796\n",
      "Epoch: 007/010 | Batch 0050/0636 | Cost: 0.3934\n",
      "Epoch: 007/010 | Batch 0100/0636 | Cost: 0.2480\n",
      "Epoch: 007/010 | Batch 0150/0636 | Cost: 0.3115\n",
      "Epoch: 007/010 | Batch 0200/0636 | Cost: 0.3573\n",
      "Epoch: 007/010 | Batch 0250/0636 | Cost: 0.2035\n",
      "Epoch: 007/010 | Batch 0300/0636 | Cost: 0.4084\n",
      "Epoch: 007/010 | Batch 0350/0636 | Cost: 0.2662\n",
      "Epoch: 007/010 | Batch 0400/0636 | Cost: 0.2372\n",
      "Epoch: 007/010 | Batch 0450/0636 | Cost: 0.2175\n",
      "Epoch: 007/010 | Batch 0500/0636 | Cost: 0.2906\n",
      "Epoch: 007/010 | Batch 0550/0636 | Cost: 0.2177\n",
      "Epoch: 007/010 | Batch 0600/0636 | Cost: 0.2371\n",
      "Epoch: 007/010 | Train: 86.773% | Valid: 90.925%\n",
      "Time elapsed: 3.83 min\n",
      "Epoch: 008/010 | Batch 0000/0636 | Cost: 0.2760\n",
      "Epoch: 008/010 | Batch 0050/0636 | Cost: 0.5818\n",
      "Epoch: 008/010 | Batch 0100/0636 | Cost: 0.4092\n",
      "Epoch: 008/010 | Batch 0150/0636 | Cost: 0.3922\n",
      "Epoch: 008/010 | Batch 0200/0636 | Cost: 0.2811\n",
      "Epoch: 008/010 | Batch 0250/0636 | Cost: 0.2641\n",
      "Epoch: 008/010 | Batch 0300/0636 | Cost: 0.2410\n",
      "Epoch: 008/010 | Batch 0350/0636 | Cost: 0.2253\n",
      "Epoch: 008/010 | Batch 0400/0636 | Cost: 0.3397\n",
      "Epoch: 008/010 | Batch 0450/0636 | Cost: 0.3036\n",
      "Epoch: 008/010 | Batch 0500/0636 | Cost: 0.2147\n",
      "Epoch: 008/010 | Batch 0550/0636 | Cost: 0.2648\n",
      "Epoch: 008/010 | Batch 0600/0636 | Cost: 0.2698\n",
      "Epoch: 008/010 | Train: 87.825% | Valid: 90.668%\n",
      "Time elapsed: 4.39 min\n",
      "Epoch: 009/010 | Batch 0000/0636 | Cost: 0.2596\n",
      "Epoch: 009/010 | Batch 0050/0636 | Cost: 0.2540\n",
      "Epoch: 009/010 | Batch 0100/0636 | Cost: 0.2324\n",
      "Epoch: 009/010 | Batch 0150/0636 | Cost: 0.4526\n",
      "Epoch: 009/010 | Batch 0200/0636 | Cost: 0.3344\n",
      "Epoch: 009/010 | Batch 0250/0636 | Cost: 0.2432\n",
      "Epoch: 009/010 | Batch 0300/0636 | Cost: 0.2287\n",
      "Epoch: 009/010 | Batch 0350/0636 | Cost: 0.2256\n",
      "Epoch: 009/010 | Batch 0400/0636 | Cost: 0.2186\n",
      "Epoch: 009/010 | Batch 0450/0636 | Cost: 0.2235\n",
      "Epoch: 009/010 | Batch 0500/0636 | Cost: 0.2545\n",
      "Epoch: 009/010 | Batch 0550/0636 | Cost: 0.2538\n",
      "Epoch: 009/010 | Batch 0600/0636 | Cost: 0.2413\n",
      "Epoch: 009/010 | Train: 88.172% | Valid: 86.978%\n",
      "Time elapsed: 4.92 min\n",
      "Epoch: 010/010 | Batch 0000/0636 | Cost: 0.3231\n",
      "Epoch: 010/010 | Batch 0050/0636 | Cost: 0.2182\n",
      "Epoch: 010/010 | Batch 0100/0636 | Cost: 0.6711\n",
      "Epoch: 010/010 | Batch 0150/0636 | Cost: 0.2525\n",
      "Epoch: 010/010 | Batch 0200/0636 | Cost: 0.3328\n",
      "Epoch: 010/010 | Batch 0250/0636 | Cost: 0.1947\n",
      "Epoch: 010/010 | Batch 0300/0636 | Cost: 0.2089\n",
      "Epoch: 010/010 | Batch 0350/0636 | Cost: 0.1777\n",
      "Epoch: 010/010 | Batch 0400/0636 | Cost: 0.2388\n",
      "Epoch: 010/010 | Batch 0450/0636 | Cost: 0.2831\n",
      "Epoch: 010/010 | Batch 0500/0636 | Cost: 0.3034\n",
      "Epoch: 010/010 | Batch 0550/0636 | Cost: 0.2866\n",
      "Epoch: 010/010 | Batch 0600/0636 | Cost: 0.2698\n",
      "Epoch: 010/010 | Train: 89.000% | Valid: 92.108%\n",
      "Time elapsed: 5.48 min\n",
      "Total Training Time: 5.48 min\n"
     ]
    }
   ],
   "source": [
    "## bigger learning rate 0.001 -> 0.01\n",
    "base_model_function(model, optimizer, num_epochs)"
   ]
  },
  {
   "cell_type": "markdown",
   "metadata": {},
   "source": [
    "### Visualization"
   ]
  },
  {
   "cell_type": "code",
   "execution_count": 121,
   "metadata": {},
   "outputs": [
    {
     "data": {
      "text/plain": [
       "<matplotlib.legend.Legend at 0x7f30d5528790>"
      ]
     },
     "execution_count": 121,
     "metadata": {},
     "output_type": "execute_result"
    },
    {
     "data": {
      "image/png": "[encoded data removed]",
      "text/plain": [
       "<Figure size 432x288 with 1 Axes>"
      ]
     },
     "metadata": {
      "needs_background": "light"
     },
     "output_type": "display_data"
    }
   ],
   "source": [
    "plt.plot(running_loss_history, label='training loss')\n",
    "plt.plot(val_running_loss_history, label='validation loss')\n",
    "plt.legend()"
   ]
  },
  {
   "cell_type": "code",
   "execution_count": 122,
   "metadata": {},
   "outputs": [
    {
     "data": {
      "text/plain": [
       "<matplotlib.legend.Legend at 0x7f31082c3be0>"
      ]
     },
     "execution_count": 122,
     "metadata": {},
     "output_type": "execute_result"
    },
    {
     "data": {
      "image/png": "[encoded data removed]",
      "text/plain": [
       "<Figure size 432x288 with 1 Axes>"
      ]
     },
     "metadata": {
      "needs_background": "light"
     },
     "output_type": "display_data"
    }
   ],
   "source": [
    "np_running_corrects_history = []\n",
    "np_val_running_corrects_history = []\n",
    "\n",
    "for t, v_t in zip(running_corrects_history, val_running_corrects_history):\n",
    "    acc = t.cpu().numpy().max() \n",
    "    val_acc = v_t.cpu().numpy().max() \n",
    "    \n",
    "    np_running_corrects_history.append(acc)\n",
    "    np_val_running_corrects_history.append(val_acc)\n",
    "\n",
    "plt.plot(np_running_corrects_history, label='training acc')\n",
    "plt.plot(np_val_running_corrects_history, label='validation acc')\n",
    "plt.legend()"
   ]
  },
  {
   "cell_type": "markdown",
   "metadata": {},
   "source": [
    "## VGG"
   ]
  },
  {
   "cell_type": "code",
   "execution_count": 109,
   "metadata": {},
   "outputs": [],
   "source": [
    "model = vgg.VGG11()               \n",
    "model = model.to(device)\n",
    "optimizer = torch.optim.SGD(model.parameters(), lr=learning_rate)"
   ]
  },
  {
   "cell_type": "code",
   "execution_count": 92,
   "metadata": {},
   "outputs": [],
   "source": [
    "# 학습 데이터의 loss를 저장\n",
    "running_loss_history = []\n",
    "# 학습 데이터의 accuracy를 저장\n",
    "running_corrects_history = []\n",
    "# 평가 데이터의 loss를 저장\n",
    "val_running_loss_history = []\n",
    "# 평가 데이터의 accuracy를 저장\n",
    "val_running_corrects_history = []"
   ]
  },
  {
   "cell_type": "code",
   "execution_count": 93,
   "metadata": {
    "scrolled": false
   },
   "outputs": [
    {
     "name": "stdout",
     "output_type": "stream",
     "text": [
      "Epoch: 001/010 | Batch 0000/0636 | Cost: 0.7362\n",
      "Epoch: 001/010 | Batch 0050/0636 | Cost: 0.4991\n",
      "Epoch: 001/010 | Batch 0100/0636 | Cost: 0.4744\n",
      "Epoch: 001/010 | Batch 0150/0636 | Cost: 0.3561\n",
      "Epoch: 001/010 | Batch 0200/0636 | Cost: 0.4083\n",
      "Epoch: 001/010 | Batch 0250/0636 | Cost: 0.3173\n",
      "Epoch: 001/010 | Batch 0300/0636 | Cost: 0.2793\n",
      "Epoch: 001/010 | Batch 0350/0636 | Cost: 0.2758\n",
      "Epoch: 001/010 | Batch 0400/0636 | Cost: 0.3186\n",
      "Epoch: 001/010 | Batch 0450/0636 | Cost: 0.2163\n",
      "Epoch: 001/010 | Batch 0500/0636 | Cost: 0.2262\n",
      "Epoch: 001/010 | Batch 0550/0636 | Cost: 0.2264\n",
      "Epoch: 001/010 | Batch 0600/0636 | Cost: 0.2062\n",
      "Epoch: 001/010 | Train: 85.918% | Valid: 92.012%\n",
      "Time elapsed: 0.39 min\n",
      "Epoch: 002/010 | Batch 0000/0636 | Cost: 0.2692\n",
      "Epoch: 002/010 | Batch 0050/0636 | Cost: 0.1813\n",
      "Epoch: 002/010 | Batch 0100/0636 | Cost: 0.2145\n",
      "Epoch: 002/010 | Batch 0150/0636 | Cost: 0.1375\n",
      "Epoch: 002/010 | Batch 0200/0636 | Cost: 0.1756\n",
      "Epoch: 002/010 | Batch 0250/0636 | Cost: 0.2085\n",
      "Epoch: 002/010 | Batch 0300/0636 | Cost: 0.1886\n",
      "Epoch: 002/010 | Batch 0350/0636 | Cost: 0.1262\n",
      "Epoch: 002/010 | Batch 0400/0636 | Cost: 0.1940\n",
      "Epoch: 002/010 | Batch 0450/0636 | Cost: 0.1877\n",
      "Epoch: 002/010 | Batch 0500/0636 | Cost: 0.1921\n",
      "Epoch: 002/010 | Batch 0550/0636 | Cost: 0.1162\n",
      "Epoch: 002/010 | Batch 0600/0636 | Cost: 0.1731\n",
      "Epoch: 002/010 | Train: 93.038% | Valid: 94.191%\n",
      "Time elapsed: 0.85 min\n",
      "Epoch: 003/010 | Batch 0000/0636 | Cost: 0.2033\n",
      "Epoch: 003/010 | Batch 0050/0636 | Cost: 0.1321\n",
      "Epoch: 003/010 | Batch 0100/0636 | Cost: 0.1476\n",
      "Epoch: 003/010 | Batch 0150/0636 | Cost: 0.1045\n",
      "Epoch: 003/010 | Batch 0200/0636 | Cost: 0.1204\n",
      "Epoch: 003/010 | Batch 0250/0636 | Cost: 0.1455\n",
      "Epoch: 003/010 | Batch 0300/0636 | Cost: 0.1747\n",
      "Epoch: 003/010 | Batch 0350/0636 | Cost: 0.1286\n",
      "Epoch: 003/010 | Batch 0400/0636 | Cost: 0.1411\n",
      "Epoch: 003/010 | Batch 0450/0636 | Cost: 0.1608\n",
      "Epoch: 003/010 | Batch 0500/0636 | Cost: 0.1153\n",
      "Epoch: 003/010 | Batch 0550/0636 | Cost: 0.1592\n",
      "Epoch: 003/010 | Batch 0600/0636 | Cost: 0.1141\n",
      "Epoch: 003/010 | Train: 94.779% | Valid: 94.257%\n",
      "Time elapsed: 1.51 min\n",
      "Epoch: 004/010 | Batch 0000/0636 | Cost: 0.0767\n",
      "Epoch: 004/010 | Batch 0050/0636 | Cost: 0.1115\n",
      "Epoch: 004/010 | Batch 0100/0636 | Cost: 0.1266\n",
      "Epoch: 004/010 | Batch 0150/0636 | Cost: 0.1233\n",
      "Epoch: 004/010 | Batch 0200/0636 | Cost: 0.1008\n",
      "Epoch: 004/010 | Batch 0250/0636 | Cost: 0.1108\n",
      "Epoch: 004/010 | Batch 0300/0636 | Cost: 0.0798\n",
      "Epoch: 004/010 | Batch 0350/0636 | Cost: 0.1382\n",
      "Epoch: 004/010 | Batch 0400/0636 | Cost: 0.0570\n",
      "Epoch: 004/010 | Batch 0450/0636 | Cost: 0.1098\n",
      "Epoch: 004/010 | Batch 0500/0636 | Cost: 0.0968\n",
      "Epoch: 004/010 | Batch 0550/0636 | Cost: 0.1378\n",
      "Epoch: 004/010 | Batch 0600/0636 | Cost: 0.1370\n",
      "Epoch: 004/010 | Train: 95.829% | Valid: 95.253%\n",
      "Time elapsed: 2.18 min\n",
      "Epoch: 005/010 | Batch 0000/0636 | Cost: 0.1269\n",
      "Epoch: 005/010 | Batch 0050/0636 | Cost: 0.0687\n",
      "Epoch: 005/010 | Batch 0100/0636 | Cost: 0.0662\n",
      "Epoch: 005/010 | Batch 0150/0636 | Cost: 0.0811\n",
      "Epoch: 005/010 | Batch 0200/0636 | Cost: 0.0725\n",
      "Epoch: 005/010 | Batch 0250/0636 | Cost: 0.0911\n",
      "Epoch: 005/010 | Batch 0300/0636 | Cost: 0.0992\n",
      "Epoch: 005/010 | Batch 0350/0636 | Cost: 0.0871\n",
      "Epoch: 005/010 | Batch 0400/0636 | Cost: 0.0830\n",
      "Epoch: 005/010 | Batch 0450/0636 | Cost: 0.1077\n",
      "Epoch: 005/010 | Batch 0500/0636 | Cost: 0.0673\n",
      "Epoch: 005/010 | Batch 0550/0636 | Cost: 0.1111\n",
      "Epoch: 005/010 | Batch 0600/0636 | Cost: 0.0959\n",
      "Epoch: 005/010 | Train: 96.722% | Valid: 95.510%\n",
      "Time elapsed: 2.86 min\n",
      "Epoch: 006/010 | Batch 0000/0636 | Cost: 0.0562\n",
      "Epoch: 006/010 | Batch 0050/0636 | Cost: 0.0578\n",
      "Epoch: 006/010 | Batch 0100/0636 | Cost: 0.0602\n",
      "Epoch: 006/010 | Batch 0150/0636 | Cost: 0.0604\n",
      "Epoch: 006/010 | Batch 0200/0636 | Cost: 0.0832\n",
      "Epoch: 006/010 | Batch 0250/0636 | Cost: 0.1107\n",
      "Epoch: 006/010 | Batch 0300/0636 | Cost: 0.1407\n",
      "Epoch: 006/010 | Batch 0350/0636 | Cost: 0.0604\n",
      "Epoch: 006/010 | Batch 0400/0636 | Cost: 0.1040\n",
      "Epoch: 006/010 | Batch 0450/0636 | Cost: 0.0729\n",
      "Epoch: 006/010 | Batch 0500/0636 | Cost: 0.0615\n",
      "Epoch: 006/010 | Batch 0550/0636 | Cost: 0.0936\n",
      "Epoch: 006/010 | Batch 0600/0636 | Cost: 0.0847\n",
      "Epoch: 006/010 | Train: 97.451% | Valid: 95.495%\n",
      "Time elapsed: 3.50 min\n",
      "Epoch: 007/010 | Batch 0000/0636 | Cost: 0.0591\n",
      "Epoch: 007/010 | Batch 0050/0636 | Cost: 0.0435\n",
      "Epoch: 007/010 | Batch 0100/0636 | Cost: 0.0387\n",
      "Epoch: 007/010 | Batch 0150/0636 | Cost: 0.0487\n",
      "Epoch: 007/010 | Batch 0200/0636 | Cost: 0.0385\n",
      "Epoch: 007/010 | Batch 0250/0636 | Cost: 0.0532\n",
      "Epoch: 007/010 | Batch 0300/0636 | Cost: 0.0616\n",
      "Epoch: 007/010 | Batch 0350/0636 | Cost: 0.0654\n",
      "Epoch: 007/010 | Batch 0400/0636 | Cost: 0.0867\n",
      "Epoch: 007/010 | Batch 0450/0636 | Cost: 0.0493\n",
      "Epoch: 007/010 | Batch 0500/0636 | Cost: 0.0467\n",
      "Epoch: 007/010 | Batch 0550/0636 | Cost: 0.0378\n",
      "Epoch: 007/010 | Batch 0600/0636 | Cost: 0.0640\n",
      "Epoch: 007/010 | Train: 98.100% | Valid: 95.349%\n",
      "Time elapsed: 4.16 min\n",
      "Epoch: 008/010 | Batch 0000/0636 | Cost: 0.0326\n",
      "Epoch: 008/010 | Batch 0050/0636 | Cost: 0.0551\n",
      "Epoch: 008/010 | Batch 0100/0636 | Cost: 0.0394\n",
      "Epoch: 008/010 | Batch 0150/0636 | Cost: 0.0456\n",
      "Epoch: 008/010 | Batch 0200/0636 | Cost: 0.0585\n",
      "Epoch: 008/010 | Batch 0250/0636 | Cost: 0.0376\n",
      "Epoch: 008/010 | Batch 0300/0636 | Cost: 0.0224\n",
      "Epoch: 008/010 | Batch 0350/0636 | Cost: 0.0646\n",
      "Epoch: 008/010 | Batch 0400/0636 | Cost: 0.0688\n",
      "Epoch: 008/010 | Batch 0450/0636 | Cost: 0.0774\n",
      "Epoch: 008/010 | Batch 0500/0636 | Cost: 0.0252\n",
      "Epoch: 008/010 | Batch 0550/0636 | Cost: 0.0396\n",
      "Epoch: 008/010 | Batch 0600/0636 | Cost: 0.0318\n",
      "Epoch: 008/010 | Train: 98.702% | Valid: 95.581%\n",
      "Time elapsed: 4.83 min\n",
      "Epoch: 009/010 | Batch 0000/0636 | Cost: 0.0380\n",
      "Epoch: 009/010 | Batch 0050/0636 | Cost: 0.0243\n",
      "Epoch: 009/010 | Batch 0100/0636 | Cost: 0.0511\n",
      "Epoch: 009/010 | Batch 0150/0636 | Cost: 0.0258\n",
      "Epoch: 009/010 | Batch 0200/0636 | Cost: 0.0459\n",
      "Epoch: 009/010 | Batch 0250/0636 | Cost: 0.0214\n",
      "Epoch: 009/010 | Batch 0300/0636 | Cost: 0.0300\n",
      "Epoch: 009/010 | Batch 0350/0636 | Cost: 0.0348\n",
      "Epoch: 009/010 | Batch 0400/0636 | Cost: 0.0585\n",
      "Epoch: 009/010 | Batch 0450/0636 | Cost: 0.0282\n",
      "Epoch: 009/010 | Batch 0500/0636 | Cost: 0.0397\n",
      "Epoch: 009/010 | Batch 0550/0636 | Cost: 0.0406\n",
      "Epoch: 009/010 | Batch 0600/0636 | Cost: 0.0441\n",
      "Epoch: 009/010 | Train: 99.155% | Valid: 95.384%\n",
      "Time elapsed: 5.50 min\n",
      "Epoch: 010/010 | Batch 0000/0636 | Cost: 0.0170\n",
      "Epoch: 010/010 | Batch 0050/0636 | Cost: 0.0189\n",
      "Epoch: 010/010 | Batch 0100/0636 | Cost: 0.0161\n",
      "Epoch: 010/010 | Batch 0150/0636 | Cost: 0.0134\n",
      "Epoch: 010/010 | Batch 0200/0636 | Cost: 0.0244\n",
      "Epoch: 010/010 | Batch 0250/0636 | Cost: 0.0189\n",
      "Epoch: 010/010 | Batch 0300/0636 | Cost: 0.0195\n",
      "Epoch: 010/010 | Batch 0350/0636 | Cost: 0.0317\n",
      "Epoch: 010/010 | Batch 0400/0636 | Cost: 0.0231\n",
      "Epoch: 010/010 | Batch 0450/0636 | Cost: 0.0276\n",
      "Epoch: 010/010 | Batch 0500/0636 | Cost: 0.0195\n",
      "Epoch: 010/010 | Batch 0550/0636 | Cost: 0.0187\n",
      "Epoch: 010/010 | Batch 0600/0636 | Cost: 0.0331\n",
      "Epoch: 010/010 | Train: 99.520% | Valid: 95.525%\n",
      "Time elapsed: 6.17 min\n",
      "Total Training Time: 6.17 min\n"
     ]
    }
   ],
   "source": [
    "# model - VGG11\n",
    "base_model_function(model, optimizer, num_epochs)"
   ]
  },
  {
   "cell_type": "markdown",
   "metadata": {},
   "source": [
    "### Evaluation"
   ]
  },
  {
   "cell_type": "code",
   "execution_count": 94,
   "metadata": {},
   "outputs": [
    {
     "name": "stdout",
     "output_type": "stream",
     "text": [
      "Test accuracy: 94.68%\n"
     ]
    }
   ],
   "source": [
    "with torch.set_grad_enabled(False): # save memory during inference\n",
    "    print('Test accuracy: %.2f%%' % (compute_accuracy(model, test_loader)))"
   ]
  },
  {
   "cell_type": "code",
   "execution_count": 95,
   "metadata": {},
   "outputs": [
    {
     "data": {
      "text/plain": [
       "<matplotlib.image.AxesImage at 0x7f31900a5b20>"
      ]
     },
     "execution_count": 95,
     "metadata": {},
     "output_type": "execute_result"
    },
    {
     "data": {
      "image/png": "[encoded data removed]",
      "text/plain": [
       "<Figure size 432x288 with 1 Axes>"
      ]
     },
     "metadata": {
      "needs_background": "light"
     },
     "output_type": "display_data"
    }
   ],
   "source": [
    "for batch_idx, (features, targets) in enumerate(test_loader):\n",
    "\n",
    "    features = features\n",
    "    targets = targets\n",
    "    break\n",
    "    \n",
    "plt.imshow(np.transpose(features[0], (1, 2, 0)))"
   ]
  },
  {
   "cell_type": "code",
   "execution_count": 96,
   "metadata": {},
   "outputs": [
    {
     "name": "stdout",
     "output_type": "stream",
     "text": [
      "Probability Female 100.00%\n"
     ]
    }
   ],
   "source": [
    "model.eval()\n",
    "logits, probas = model(features.to(device)[0, None])\n",
    "print('Probability Female %.2f%%' % (probas[0][0]*100))"
   ]
  },
  {
   "cell_type": "markdown",
   "metadata": {},
   "source": [
    "### Visualization"
   ]
  },
  {
   "cell_type": "code",
   "execution_count": 97,
   "metadata": {},
   "outputs": [
    {
     "data": {
      "text/plain": [
       "<matplotlib.legend.Legend at 0x7f315fc81640>"
      ]
     },
     "execution_count": 97,
     "metadata": {},
     "output_type": "execute_result"
    },
    {
     "data": {
      "image/png": "[encoded data removed]",
      "text/plain": [
       "<Figure size 432x288 with 1 Axes>"
      ]
     },
     "metadata": {
      "needs_background": "light"
     },
     "output_type": "display_data"
    }
   ],
   "source": [
    "plt.plot(running_loss_history, label='training loss')\n",
    "plt.plot(val_running_loss_history, label='validation loss')\n",
    "plt.legend()"
   ]
  },
  {
   "cell_type": "code",
   "execution_count": 98,
   "metadata": {},
   "outputs": [],
   "source": [
    "np_running_corrects_history = []\n",
    "np_val_running_corrects_history = []\n",
    "\n",
    "for t, v_t in zip(running_corrects_history, val_running_corrects_history):\n",
    "    acc = t.cpu().numpy().max() \n",
    "    val_acc = v_t.cpu().numpy().max() \n",
    "    \n",
    "    np_running_corrects_history.append(acc)\n",
    "    np_val_running_corrects_history.append(val_acc)"
   ]
  },
  {
   "cell_type": "code",
   "execution_count": 99,
   "metadata": {},
   "outputs": [
    {
     "data": {
      "text/plain": [
       "<matplotlib.legend.Legend at 0x7f315fba29a0>"
      ]
     },
     "execution_count": 99,
     "metadata": {},
     "output_type": "execute_result"
    },
    {
     "data": {
      "image/png": "[encoded data removed]",
      "text/plain": [
       "<Figure size 432x288 with 1 Axes>"
      ]
     },
     "metadata": {
      "needs_background": "light"
     },
     "output_type": "display_data"
    }
   ],
   "source": [
    "plt.plot(np_running_corrects_history, label='training acc')\n",
    "plt.plot(np_val_running_corrects_history, label='validation acc')\n",
    "plt.legend()"
   ]
  },
  {
   "cell_type": "markdown",
   "metadata": {},
   "source": [
    "## ResNet"
   ]
  },
  {
   "cell_type": "markdown",
   "metadata": {},
   "source": [
    "### ResNet Basic"
   ]
  },
  {
   "cell_type": "code",
   "execution_count": 100,
   "metadata": {},
   "outputs": [],
   "source": [
    "model = resnet.ResNet18()               \n",
    "model = model.to(device)"
   ]
  },
  {
   "cell_type": "code",
   "execution_count": 101,
   "metadata": {},
   "outputs": [],
   "source": [
    "optimizer = torch.optim.SGD(model.parameters(), lr=learning_rate)"
   ]
  },
  {
   "cell_type": "code",
   "execution_count": 102,
   "metadata": {},
   "outputs": [],
   "source": [
    "# 학습 데이터의 loss를 저장\n",
    "running_loss_history = []\n",
    "# 학습 데이터의 accuracy를 저장\n",
    "running_corrects_history = []\n",
    "# 평가 데이터의 loss를 저장\n",
    "val_running_loss_history = []\n",
    "# 평가 데이터의 accuracy를 저장\n",
    "val_running_corrects_history = []"
   ]
  },
  {
   "cell_type": "code",
   "execution_count": 103,
   "metadata": {
    "scrolled": false
   },
   "outputs": [
    {
     "name": "stdout",
     "output_type": "stream",
     "text": [
      "Epoch: 001/010 | Batch 0000/0636 | Cost: 0.7165\n",
      "Epoch: 001/010 | Batch 0050/0636 | Cost: 0.6454\n",
      "Epoch: 001/010 | Batch 0100/0636 | Cost: 0.6016\n",
      "Epoch: 001/010 | Batch 0150/0636 | Cost: 0.5727\n",
      "Epoch: 001/010 | Batch 0200/0636 | Cost: 0.5455\n",
      "Epoch: 001/010 | Batch 0250/0636 | Cost: 0.4994\n",
      "Epoch: 001/010 | Batch 0300/0636 | Cost: 0.4864\n",
      "Epoch: 001/010 | Batch 0350/0636 | Cost: 0.4613\n",
      "Epoch: 001/010 | Batch 0400/0636 | Cost: 0.3579\n",
      "Epoch: 001/010 | Batch 0450/0636 | Cost: 0.3767\n",
      "Epoch: 001/010 | Batch 0500/0636 | Cost: 0.3256\n",
      "Epoch: 001/010 | Batch 0550/0636 | Cost: 0.3052\n",
      "Epoch: 001/010 | Batch 0600/0636 | Cost: 0.2757\n",
      "Epoch: 001/010 | Train: 78.140% | Valid: 90.592%\n",
      "Time elapsed: 2.12 min\n",
      "Epoch: 002/010 | Batch 0000/0636 | Cost: 0.2200\n",
      "Epoch: 002/010 | Batch 0050/0636 | Cost: 0.2050\n",
      "Epoch: 002/010 | Batch 0100/0636 | Cost: 0.2005\n",
      "Epoch: 002/010 | Batch 0150/0636 | Cost: 0.2515\n",
      "Epoch: 002/010 | Batch 0200/0636 | Cost: 0.1510\n",
      "Epoch: 002/010 | Batch 0250/0636 | Cost: 0.1651\n",
      "Epoch: 002/010 | Batch 0300/0636 | Cost: 0.1734\n",
      "Epoch: 002/010 | Batch 0350/0636 | Cost: 0.1536\n",
      "Epoch: 002/010 | Batch 0400/0636 | Cost: 0.2190\n",
      "Epoch: 002/010 | Batch 0450/0636 | Cost: 0.1484\n",
      "Epoch: 002/010 | Batch 0500/0636 | Cost: 0.1833\n",
      "Epoch: 002/010 | Batch 0550/0636 | Cost: 0.1874\n",
      "Epoch: 002/010 | Batch 0600/0636 | Cost: 0.1552\n",
      "Epoch: 002/010 | Train: 91.571% | Valid: 93.592%\n",
      "Time elapsed: 4.30 min\n",
      "Epoch: 003/010 | Batch 0000/0636 | Cost: 0.1706\n",
      "Epoch: 003/010 | Batch 0050/0636 | Cost: 0.1387\n",
      "Epoch: 003/010 | Batch 0100/0636 | Cost: 0.1578\n",
      "Epoch: 003/010 | Batch 0150/0636 | Cost: 0.1880\n",
      "Epoch: 003/010 | Batch 0200/0636 | Cost: 0.1633\n",
      "Epoch: 003/010 | Batch 0250/0636 | Cost: 0.1739\n",
      "Epoch: 003/010 | Batch 0300/0636 | Cost: 0.1570\n",
      "Epoch: 003/010 | Batch 0350/0636 | Cost: 0.1784\n",
      "Epoch: 003/010 | Batch 0400/0636 | Cost: 0.1548\n",
      "Epoch: 003/010 | Batch 0450/0636 | Cost: 0.1672\n",
      "Epoch: 003/010 | Batch 0500/0636 | Cost: 0.1030\n",
      "Epoch: 003/010 | Batch 0550/0636 | Cost: 0.1492\n",
      "Epoch: 003/010 | Batch 0600/0636 | Cost: 0.1346\n",
      "Epoch: 003/010 | Train: 93.562% | Valid: 94.574%\n",
      "Time elapsed: 6.46 min\n",
      "Epoch: 004/010 | Batch 0000/0636 | Cost: 0.1762\n",
      "Epoch: 004/010 | Batch 0050/0636 | Cost: 0.1271\n",
      "Epoch: 004/010 | Batch 0100/0636 | Cost: 0.1087\n",
      "Epoch: 004/010 | Batch 0150/0636 | Cost: 0.1817\n",
      "Epoch: 004/010 | Batch 0200/0636 | Cost: 0.1341\n",
      "Epoch: 004/010 | Batch 0250/0636 | Cost: 0.1364\n",
      "Epoch: 004/010 | Batch 0300/0636 | Cost: 0.1345\n",
      "Epoch: 004/010 | Batch 0350/0636 | Cost: 0.0966\n",
      "Epoch: 004/010 | Batch 0400/0636 | Cost: 0.1398\n",
      "Epoch: 004/010 | Batch 0450/0636 | Cost: 0.1239\n",
      "Epoch: 004/010 | Batch 0500/0636 | Cost: 0.1577\n",
      "Epoch: 004/010 | Batch 0550/0636 | Cost: 0.1559\n",
      "Epoch: 004/010 | Batch 0600/0636 | Cost: 0.1139\n",
      "Epoch: 004/010 | Train: 94.621% | Valid: 95.077%\n",
      "Time elapsed: 8.56 min\n",
      "Epoch: 005/010 | Batch 0000/0636 | Cost: 0.1471\n",
      "Epoch: 005/010 | Batch 0050/0636 | Cost: 0.1174\n",
      "Epoch: 005/010 | Batch 0100/0636 | Cost: 0.0950\n",
      "Epoch: 005/010 | Batch 0150/0636 | Cost: 0.1137\n",
      "Epoch: 005/010 | Batch 0200/0636 | Cost: 0.1494\n",
      "Epoch: 005/010 | Batch 0250/0636 | Cost: 0.0968\n",
      "Epoch: 005/010 | Batch 0300/0636 | Cost: 0.0764\n",
      "Epoch: 005/010 | Batch 0350/0636 | Cost: 0.0996\n",
      "Epoch: 005/010 | Batch 0400/0636 | Cost: 0.1225\n",
      "Epoch: 005/010 | Batch 0450/0636 | Cost: 0.1304\n",
      "Epoch: 005/010 | Batch 0500/0636 | Cost: 0.0590\n",
      "Epoch: 005/010 | Batch 0550/0636 | Cost: 0.1596\n",
      "Epoch: 005/010 | Batch 0600/0636 | Cost: 0.1029\n",
      "Epoch: 005/010 | Train: 95.457% | Valid: 94.992%\n",
      "Time elapsed: 10.71 min\n",
      "Epoch: 006/010 | Batch 0000/0636 | Cost: 0.0740\n",
      "Epoch: 006/010 | Batch 0050/0636 | Cost: 0.1432\n",
      "Epoch: 006/010 | Batch 0100/0636 | Cost: 0.1382\n",
      "Epoch: 006/010 | Batch 0150/0636 | Cost: 0.1401\n",
      "Epoch: 006/010 | Batch 0200/0636 | Cost: 0.1011\n",
      "Epoch: 006/010 | Batch 0250/0636 | Cost: 0.0683\n",
      "Epoch: 006/010 | Batch 0300/0636 | Cost: 0.1247\n",
      "Epoch: 006/010 | Batch 0350/0636 | Cost: 0.0922\n",
      "Epoch: 006/010 | Batch 0400/0636 | Cost: 0.1148\n",
      "Epoch: 006/010 | Batch 0450/0636 | Cost: 0.0996\n",
      "Epoch: 006/010 | Batch 0500/0636 | Cost: 0.0769\n",
      "Epoch: 006/010 | Batch 0550/0636 | Cost: 0.1155\n",
      "Epoch: 006/010 | Batch 0600/0636 | Cost: 0.0823\n",
      "Epoch: 006/010 | Train: 96.039% | Valid: 95.646%\n",
      "Time elapsed: 12.88 min\n",
      "Epoch: 007/010 | Batch 0000/0636 | Cost: 0.0816\n",
      "Epoch: 007/010 | Batch 0050/0636 | Cost: 0.0872\n",
      "Epoch: 007/010 | Batch 0100/0636 | Cost: 0.0919\n",
      "Epoch: 007/010 | Batch 0150/0636 | Cost: 0.1648\n",
      "Epoch: 007/010 | Batch 0200/0636 | Cost: 0.1288\n",
      "Epoch: 007/010 | Batch 0250/0636 | Cost: 0.0972\n",
      "Epoch: 007/010 | Batch 0300/0636 | Cost: 0.0918\n",
      "Epoch: 007/010 | Batch 0350/0636 | Cost: 0.0680\n",
      "Epoch: 007/010 | Batch 0400/0636 | Cost: 0.0837\n",
      "Epoch: 007/010 | Batch 0450/0636 | Cost: 0.0932\n",
      "Epoch: 007/010 | Batch 0500/0636 | Cost: 0.0718\n",
      "Epoch: 007/010 | Batch 0550/0636 | Cost: 0.0694\n",
      "Epoch: 007/010 | Batch 0600/0636 | Cost: 0.0534\n",
      "Epoch: 007/010 | Train: 96.612% | Valid: 95.601%\n",
      "Time elapsed: 15.06 min\n",
      "Epoch: 008/010 | Batch 0000/0636 | Cost: 0.0688\n",
      "Epoch: 008/010 | Batch 0050/0636 | Cost: 0.0867\n",
      "Epoch: 008/010 | Batch 0100/0636 | Cost: 0.0802\n",
      "Epoch: 008/010 | Batch 0150/0636 | Cost: 0.1246\n",
      "Epoch: 008/010 | Batch 0200/0636 | Cost: 0.1057\n",
      "Epoch: 008/010 | Batch 0250/0636 | Cost: 0.0570\n",
      "Epoch: 008/010 | Batch 0300/0636 | Cost: 0.0580\n",
      "Epoch: 008/010 | Batch 0350/0636 | Cost: 0.1440\n",
      "Epoch: 008/010 | Batch 0400/0636 | Cost: 0.0592\n",
      "Epoch: 008/010 | Batch 0450/0636 | Cost: 0.0476\n",
      "Epoch: 008/010 | Batch 0500/0636 | Cost: 0.0911\n",
      "Epoch: 008/010 | Batch 0550/0636 | Cost: 0.0604\n",
      "Epoch: 008/010 | Batch 0600/0636 | Cost: 0.0796\n",
      "Epoch: 008/010 | Train: 97.136% | Valid: 95.586%\n",
      "Time elapsed: 17.08 min\n",
      "Epoch: 009/010 | Batch 0000/0636 | Cost: 0.0711\n",
      "Epoch: 009/010 | Batch 0050/0636 | Cost: 0.0828\n",
      "Epoch: 009/010 | Batch 0100/0636 | Cost: 0.0591\n",
      "Epoch: 009/010 | Batch 0150/0636 | Cost: 0.0521\n",
      "Epoch: 009/010 | Batch 0200/0636 | Cost: 0.0583\n",
      "Epoch: 009/010 | Batch 0250/0636 | Cost: 0.0648\n",
      "Epoch: 009/010 | Batch 0300/0636 | Cost: 0.0629\n",
      "Epoch: 009/010 | Batch 0350/0636 | Cost: 0.0743\n",
      "Epoch: 009/010 | Batch 0400/0636 | Cost: 0.1052\n",
      "Epoch: 009/010 | Batch 0450/0636 | Cost: 0.0391\n",
      "Epoch: 009/010 | Batch 0500/0636 | Cost: 0.0583\n",
      "Epoch: 009/010 | Batch 0550/0636 | Cost: 0.1006\n",
      "Epoch: 009/010 | Batch 0600/0636 | Cost: 0.0837\n",
      "Epoch: 009/010 | Train: 97.590% | Valid: 95.566%\n",
      "Time elapsed: 19.05 min\n",
      "Epoch: 010/010 | Batch 0000/0636 | Cost: 0.0398\n",
      "Epoch: 010/010 | Batch 0050/0636 | Cost: 0.0434\n",
      "Epoch: 010/010 | Batch 0100/0636 | Cost: 0.0721\n",
      "Epoch: 010/010 | Batch 0150/0636 | Cost: 0.0440\n",
      "Epoch: 010/010 | Batch 0200/0636 | Cost: 0.0874\n",
      "Epoch: 010/010 | Batch 0250/0636 | Cost: 0.0293\n",
      "Epoch: 010/010 | Batch 0300/0636 | Cost: 0.0695\n",
      "Epoch: 010/010 | Batch 0350/0636 | Cost: 0.0544\n",
      "Epoch: 010/010 | Batch 0400/0636 | Cost: 0.0530\n",
      "Epoch: 010/010 | Batch 0450/0636 | Cost: 0.0433\n",
      "Epoch: 010/010 | Batch 0500/0636 | Cost: 0.0710\n",
      "Epoch: 010/010 | Batch 0550/0636 | Cost: 0.0376\n",
      "Epoch: 010/010 | Batch 0600/0636 | Cost: 0.0564\n",
      "Epoch: 010/010 | Train: 98.066% | Valid: 95.560%\n",
      "Time elapsed: 21.02 min\n",
      "Total Training Time: 21.02 min\n"
     ]
    }
   ],
   "source": [
    "base_model_function(model, optimizer, num_epochs)"
   ]
  },
  {
   "cell_type": "markdown",
   "metadata": {},
   "source": [
    "### Evaluation"
   ]
  },
  {
   "cell_type": "code",
   "execution_count": 104,
   "metadata": {},
   "outputs": [
    {
     "name": "stdout",
     "output_type": "stream",
     "text": [
      "Test accuracy: 94.64%\n"
     ]
    }
   ],
   "source": [
    "with torch.set_grad_enabled(False): # save memory during inference\n",
    "    print('Test accuracy: %.2f%%' % (compute_accuracy(model, test_loader)))"
   ]
  },
  {
   "cell_type": "code",
   "execution_count": 105,
   "metadata": {},
   "outputs": [
    {
     "data": {
      "text/plain": [
       "<matplotlib.image.AxesImage at 0x7f319011ba00>"
      ]
     },
     "execution_count": 105,
     "metadata": {},
     "output_type": "execute_result"
    },
    {
     "data": {
      "image/png": "[encoded data removed]",
      "text/plain": [
       "<Figure size 432x288 with 1 Axes>"
      ]
     },
     "metadata": {
      "needs_background": "light"
     },
     "output_type": "display_data"
    }
   ],
   "source": [
    "for batch_idx, (features, targets) in enumerate(test_loader):\n",
    "\n",
    "    features = features\n",
    "    targets = targets\n",
    "    break\n",
    "    \n",
    "plt.imshow(np.transpose(features[0], (1, 2, 0)))"
   ]
  },
  {
   "cell_type": "code",
   "execution_count": 106,
   "metadata": {},
   "outputs": [
    {
     "name": "stdout",
     "output_type": "stream",
     "text": [
      "Probability Female 92.90%\n"
     ]
    }
   ],
   "source": [
    "model.eval()\n",
    "logits, probas = model(features.to(device)[0, None])\n",
    "print('Probability Female %.2f%%' % (probas[0][0]*100))"
   ]
  },
  {
   "cell_type": "markdown",
   "metadata": {},
   "source": [
    "### Visualization"
   ]
  },
  {
   "cell_type": "code",
   "execution_count": 107,
   "metadata": {},
   "outputs": [
    {
     "data": {
      "text/plain": [
       "<matplotlib.legend.Legend at 0x7f315fac8910>"
      ]
     },
     "execution_count": 107,
     "metadata": {},
     "output_type": "execute_result"
    },
    {
     "data": {
      "image/png": "[encoded data removed]",
      "text/plain": [
       "<Figure size 432x288 with 1 Axes>"
      ]
     },
     "metadata": {
      "needs_background": "light"
     },
     "output_type": "display_data"
    }
   ],
   "source": [
    "plt.plot(running_loss_history, label='training loss')\n",
    "plt.plot(val_running_loss_history, label='validation loss')\n",
    "plt.legend()"
   ]
  },
  {
   "cell_type": "code",
   "execution_count": 108,
   "metadata": {},
   "outputs": [
    {
     "data": {
      "text/plain": [
       "<matplotlib.legend.Legend at 0x7f31901be250>"
      ]
     },
     "execution_count": 108,
     "metadata": {},
     "output_type": "execute_result"
    },
    {
     "data": {
      "image/png": "[encoded data removed]",
      "text/plain": [
       "<Figure size 432x288 with 1 Axes>"
      ]
     },
     "metadata": {
      "needs_background": "light"
     },
     "output_type": "display_data"
    }
   ],
   "source": [
    "np_running_corrects_history = []\n",
    "np_val_running_corrects_history = []\n",
    "\n",
    "for t, v_t in zip(running_corrects_history, val_running_corrects_history):\n",
    "    acc = t.cpu().numpy().max() \n",
    "    val_acc = v_t.cpu().numpy().max() \n",
    "    \n",
    "    np_running_corrects_history.append(acc)\n",
    "    np_val_running_corrects_history.append(val_acc)\n",
    "\n",
    "plt.plot(np_running_corrects_history, label='training acc')\n",
    "plt.plot(np_val_running_corrects_history, label='validation acc')\n",
    "plt.legend()"
   ]
  }
 ],
 "metadata": {
  "interpreter": {
   "hash": "a785de242a1f949ba8c3aa9b564082d045baf395bdeb060fec7bcc302f2c8d8c"
  },
  "kernelspec": {
   "display_name": "pytorch_env",
   "language": "python",
   "name": "pytorch_env"
  },
  "language_info": {
   "codemirror_mode": {
    "name": "ipython",
    "version": 3
   },
   "file_extension": ".py",
   "mimetype": "text/x-python",
   "name": "python",
   "nbconvert_exporter": "python",
   "pygments_lexer": "ipython3",
   "version": "3.9.12"
  },
  "metadata": {
   "interpreter": {
    "hash": "3f266c41d07c302057bd536a9dd31e4a772155858470f8dfb91085d93df1aae9"
   }
  }
 },
 "nbformat": 4,
 "nbformat_minor": 2
}
